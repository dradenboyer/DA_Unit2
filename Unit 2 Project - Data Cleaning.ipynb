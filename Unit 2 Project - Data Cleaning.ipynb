{
 "cells": [
  {
   "cell_type": "markdown",
   "id": "a4718e28",
   "metadata": {},
   "source": [
    "# Unit 2 Project - Data Cleaning "
   ]
  },
  {
   "cell_type": "markdown",
   "id": "7e497310",
   "metadata": {},
   "source": [
    "## Part 1: Prepare Environment and Jupyter Notebook"
   ]
  },
  {
   "cell_type": "markdown",
   "id": "af19cd7e",
   "metadata": {},
   "source": [
    "### Step 1: Create Virtual Environment\n",
    "\n",
    "This step should have been completed prior to opening the Jupyter Notebook. Refer to project instructions."
   ]
  },
  {
   "cell_type": "markdown",
   "id": "056e8cce",
   "metadata": {},
   "source": [
    "### Step 2: Open Jupyter Notebook File\n",
    "\n",
    "Congratulations! If you're here it means you have completed Step 2. "
   ]
  },
  {
   "cell_type": "markdown",
   "id": "4af0ea78",
   "metadata": {},
   "source": [
    "### Step 3: Load .csv Files into DataFrames"
   ]
  },
  {
   "cell_type": "code",
   "execution_count": 2,
   "id": "868a7c22",
   "metadata": {},
   "outputs": [],
   "source": [
    "import pandas as pd"
   ]
  },
  {
   "cell_type": "code",
   "execution_count": 3,
   "id": "ad22d838",
   "metadata": {},
   "outputs": [],
   "source": [
    "import seaborn as sns"
   ]
  },
  {
   "cell_type": "code",
   "execution_count": 4,
   "id": "f639cd26",
   "metadata": {},
   "outputs": [],
   "source": [
    "####### TO DO ########\n",
    "\n",
    "# load house_data.csv into a dataframe using pd.read_csv()\n",
    "house_data = pd.read_csv(\"house_data.csv\")\n",
    "# load house_sales.csv into a dataframe using pd.read_csv()\n",
    "house_sales = pd.read_csv(\"house_sales.csv\")\n",
    "######################"
   ]
  },
  {
   "cell_type": "code",
   "execution_count": 5,
   "id": "e242b38c",
   "metadata": {},
   "outputs": [
    {
     "data": {
      "text/html": [
       "<div>\n",
       "<style scoped>\n",
       "    .dataframe tbody tr th:only-of-type {\n",
       "        vertical-align: middle;\n",
       "    }\n",
       "\n",
       "    .dataframe tbody tr th {\n",
       "        vertical-align: top;\n",
       "    }\n",
       "\n",
       "    .dataframe thead th {\n",
       "        text-align: right;\n",
       "    }\n",
       "</style>\n",
       "<table border=\"1\" class=\"dataframe\">\n",
       "  <thead>\n",
       "    <tr style=\"text-align: right;\">\n",
       "      <th></th>\n",
       "      <th>Unnamed: 0</th>\n",
       "      <th>ID</th>\n",
       "      <th>Bedrooms</th>\n",
       "      <th>Bathrooms</th>\n",
       "      <th>SQFT living</th>\n",
       "      <th>SQFT lot</th>\n",
       "      <th>Floors</th>\n",
       "      <th>Waterfront?</th>\n",
       "      <th>View</th>\n",
       "      <th>House Condition</th>\n",
       "      <th>Grade</th>\n",
       "      <th>SQFT above</th>\n",
       "      <th>SQFT basement</th>\n",
       "      <th>Year Built</th>\n",
       "      <th>Year Renovated</th>\n",
       "      <th>Zipcode</th>\n",
       "      <th>Lat</th>\n",
       "      <th>Long</th>\n",
       "      <th>SQFT living 15</th>\n",
       "      <th>SQFT lot 15</th>\n",
       "    </tr>\n",
       "  </thead>\n",
       "  <tbody>\n",
       "    <tr>\n",
       "      <th>0</th>\n",
       "      <td>0</td>\n",
       "      <td>7129300520</td>\n",
       "      <td>3</td>\n",
       "      <td>1.00</td>\n",
       "      <td>1180</td>\n",
       "      <td>5650.0</td>\n",
       "      <td>1.0</td>\n",
       "      <td>No</td>\n",
       "      <td>Very Poor</td>\n",
       "      <td>OK Condition</td>\n",
       "      <td>7.0</td>\n",
       "      <td>1180.0</td>\n",
       "      <td>0</td>\n",
       "      <td>1955.0</td>\n",
       "      <td>NaN</td>\n",
       "      <td>98178.0</td>\n",
       "      <td>47.5112</td>\n",
       "      <td>-122.257</td>\n",
       "      <td>1340</td>\n",
       "      <td>5650</td>\n",
       "    </tr>\n",
       "    <tr>\n",
       "      <th>1</th>\n",
       "      <td>1</td>\n",
       "      <td>6414100192</td>\n",
       "      <td>3</td>\n",
       "      <td>2.25</td>\n",
       "      <td>2570</td>\n",
       "      <td>7242.0</td>\n",
       "      <td>2.0</td>\n",
       "      <td>No</td>\n",
       "      <td>Very Poor</td>\n",
       "      <td>OK Condition</td>\n",
       "      <td>7.0</td>\n",
       "      <td>2170.0</td>\n",
       "      <td>400</td>\n",
       "      <td>1951.0</td>\n",
       "      <td>1991.0</td>\n",
       "      <td>98125.0</td>\n",
       "      <td>47.7210</td>\n",
       "      <td>-122.319</td>\n",
       "      <td>1690</td>\n",
       "      <td>7639</td>\n",
       "    </tr>\n",
       "    <tr>\n",
       "      <th>2</th>\n",
       "      <td>2</td>\n",
       "      <td>5631500400</td>\n",
       "      <td>2</td>\n",
       "      <td>1.00</td>\n",
       "      <td>770</td>\n",
       "      <td>10000.0</td>\n",
       "      <td>1.0</td>\n",
       "      <td>No</td>\n",
       "      <td>Very Poor</td>\n",
       "      <td>OK Condition</td>\n",
       "      <td>6.0</td>\n",
       "      <td>770.0</td>\n",
       "      <td>0</td>\n",
       "      <td>1933.0</td>\n",
       "      <td>NaN</td>\n",
       "      <td>98028.0</td>\n",
       "      <td>47.7379</td>\n",
       "      <td>-122.233</td>\n",
       "      <td>2720</td>\n",
       "      <td>8062</td>\n",
       "    </tr>\n",
       "    <tr>\n",
       "      <th>3</th>\n",
       "      <td>3</td>\n",
       "      <td>2487200875</td>\n",
       "      <td>4</td>\n",
       "      <td>3.00</td>\n",
       "      <td>1960</td>\n",
       "      <td>5000.0</td>\n",
       "      <td>1.0</td>\n",
       "      <td>No</td>\n",
       "      <td>Very Poor</td>\n",
       "      <td>Great Condition</td>\n",
       "      <td>7.0</td>\n",
       "      <td>1050.0</td>\n",
       "      <td>910</td>\n",
       "      <td>1965.0</td>\n",
       "      <td>NaN</td>\n",
       "      <td>98136.0</td>\n",
       "      <td>47.5208</td>\n",
       "      <td>-122.393</td>\n",
       "      <td>1360</td>\n",
       "      <td>5000</td>\n",
       "    </tr>\n",
       "    <tr>\n",
       "      <th>4</th>\n",
       "      <td>4</td>\n",
       "      <td>1954400510</td>\n",
       "      <td>3</td>\n",
       "      <td>2.00</td>\n",
       "      <td>1680</td>\n",
       "      <td>8080.0</td>\n",
       "      <td>1.0</td>\n",
       "      <td>No</td>\n",
       "      <td>Very Poor</td>\n",
       "      <td>OK Condition</td>\n",
       "      <td>8.0</td>\n",
       "      <td>1680.0</td>\n",
       "      <td>0</td>\n",
       "      <td>1987.0</td>\n",
       "      <td>NaN</td>\n",
       "      <td>98074.0</td>\n",
       "      <td>47.6168</td>\n",
       "      <td>-122.045</td>\n",
       "      <td>1800</td>\n",
       "      <td>7503</td>\n",
       "    </tr>\n",
       "  </tbody>\n",
       "</table>\n",
       "</div>"
      ],
      "text/plain": [
       "   Unnamed: 0          ID  Bedrooms  Bathrooms  SQFT living  SQFT lot  Floors  \\\n",
       "0           0  7129300520         3       1.00         1180    5650.0     1.0   \n",
       "1           1  6414100192         3       2.25         2570    7242.0     2.0   \n",
       "2           2  5631500400         2       1.00          770   10000.0     1.0   \n",
       "3           3  2487200875         4       3.00         1960    5000.0     1.0   \n",
       "4           4  1954400510         3       2.00         1680    8080.0     1.0   \n",
       "\n",
       "  Waterfront?       View  House Condition  Grade  SQFT above  SQFT basement  \\\n",
       "0          No  Very Poor     OK Condition    7.0      1180.0              0   \n",
       "1          No  Very Poor     OK Condition    7.0      2170.0            400   \n",
       "2          No  Very Poor     OK Condition    6.0       770.0              0   \n",
       "3          No  Very Poor  Great Condition    7.0      1050.0            910   \n",
       "4          No  Very Poor     OK Condition    8.0      1680.0              0   \n",
       "\n",
       "   Year Built  Year Renovated  Zipcode      Lat     Long  SQFT living 15  \\\n",
       "0      1955.0             NaN  98178.0  47.5112 -122.257            1340   \n",
       "1      1951.0          1991.0  98125.0  47.7210 -122.319            1690   \n",
       "2      1933.0             NaN  98028.0  47.7379 -122.233            2720   \n",
       "3      1965.0             NaN  98136.0  47.5208 -122.393            1360   \n",
       "4      1987.0             NaN  98074.0  47.6168 -122.045            1800   \n",
       "\n",
       "   SQFT lot 15  \n",
       "0         5650  \n",
       "1         7639  \n",
       "2         8062  \n",
       "3         5000  \n",
       "4         7503  "
      ]
     },
     "execution_count": 5,
     "metadata": {},
     "output_type": "execute_result"
    }
   ],
   "source": [
    "###### TO DO ######\n",
    "\n",
    "# use .head() on your new dataframe to show the dataframe was loaded succussfully\n",
    "house_data.head()"
   ]
  },
  {
   "cell_type": "code",
   "execution_count": 6,
   "id": "3ca8a987",
   "metadata": {},
   "outputs": [
    {
     "data": {
      "text/html": [
       "<div>\n",
       "<style scoped>\n",
       "    .dataframe tbody tr th:only-of-type {\n",
       "        vertical-align: middle;\n",
       "    }\n",
       "\n",
       "    .dataframe tbody tr th {\n",
       "        vertical-align: top;\n",
       "    }\n",
       "\n",
       "    .dataframe thead th {\n",
       "        text-align: right;\n",
       "    }\n",
       "</style>\n",
       "<table border=\"1\" class=\"dataframe\">\n",
       "  <thead>\n",
       "    <tr style=\"text-align: right;\">\n",
       "      <th></th>\n",
       "      <th>Unnamed: 0</th>\n",
       "      <th>Id</th>\n",
       "      <th>DATE</th>\n",
       "      <th>Price</th>\n",
       "    </tr>\n",
       "  </thead>\n",
       "  <tbody>\n",
       "    <tr>\n",
       "      <th>0</th>\n",
       "      <td>0</td>\n",
       "      <td>7129300520</td>\n",
       "      <td>20141013T000000</td>\n",
       "      <td>$221,900.00</td>\n",
       "    </tr>\n",
       "    <tr>\n",
       "      <th>1</th>\n",
       "      <td>1</td>\n",
       "      <td>6414100192</td>\n",
       "      <td>20141209T000000</td>\n",
       "      <td>$538,000.00</td>\n",
       "    </tr>\n",
       "    <tr>\n",
       "      <th>2</th>\n",
       "      <td>2</td>\n",
       "      <td>5631500400</td>\n",
       "      <td>20150225T000000</td>\n",
       "      <td>$180,000.00</td>\n",
       "    </tr>\n",
       "    <tr>\n",
       "      <th>3</th>\n",
       "      <td>3</td>\n",
       "      <td>2487200875</td>\n",
       "      <td>20141209T000000</td>\n",
       "      <td>$604,000.00</td>\n",
       "    </tr>\n",
       "    <tr>\n",
       "      <th>4</th>\n",
       "      <td>4</td>\n",
       "      <td>1954400510</td>\n",
       "      <td>20150218T000000</td>\n",
       "      <td>$510,000.00</td>\n",
       "    </tr>\n",
       "  </tbody>\n",
       "</table>\n",
       "</div>"
      ],
      "text/plain": [
       "   Unnamed: 0          Id             DATE        Price\n",
       "0           0  7129300520  20141013T000000  $221,900.00\n",
       "1           1  6414100192  20141209T000000  $538,000.00\n",
       "2           2  5631500400  20150225T000000  $180,000.00\n",
       "3           3  2487200875  20141209T000000  $604,000.00\n",
       "4           4  1954400510  20150218T000000  $510,000.00"
      ]
     },
     "execution_count": 6,
     "metadata": {},
     "output_type": "execute_result"
    }
   ],
   "source": [
    "###### TO DO ######\n",
    "\n",
    "# use .head() on your second new dataframe to show the dataframe was loaded succussfully\n",
    "house_sales.head()"
   ]
  },
  {
   "cell_type": "markdown",
   "id": "07f969b2",
   "metadata": {},
   "source": [
    "### Step 4: Create Data Dictionaries for Each Dataset"
   ]
  },
  {
   "cell_type": "code",
   "execution_count": 7,
   "id": "2da245c7",
   "metadata": {},
   "outputs": [],
   "source": [
    "####### TO DO ###########\n",
    "\n",
    "# Work in the cells below to fill in missing information in the data dictionary. "
   ]
  },
  {
   "cell_type": "markdown",
   "id": "65828aca",
   "metadata": {},
   "source": [
    "#### Data Dictionary - House Data\n",
    "\n",
    "**id**:\n",
    "> Description: ID assigned to each house\n",
    ">\n",
    "> Data type: int\n",
    "\n",
    "**bedrooms**:\n",
    "> Description: How many bedrooms there are\n",
    ">\n",
    "> Data type: int\n",
    "\n",
    "**bathrooms**:\n",
    "> Description: How many bathrooms there  are\n",
    ">\n",
    "> Data type: float\n",
    "\n",
    "**sqft_living**:\n",
    "> Description: How much sqft is in the living area\n",
    ">\n",
    "> Data type: int\n",
    "\n",
    "**sqft_lot**:\n",
    "> Description: How much sqft is on the lot/land\n",
    ">\n",
    "> Data type: float\n",
    "\n",
    "**floors**:\n",
    "> Description: How many floors/stories there are\n",
    ">\n",
    "> Data type: int\n",
    "\n",
    "**waterfront**:\n",
    "> Description: Is house on the waterfront?\n",
    ">\n",
    "> Data type: boolean\n",
    "\n",
    "**view**:\n",
    "> Description: What the view outside the house is\n",
    ">\n",
    "> Data type: object\n",
    "\n",
    "**condition**:\n",
    "> Description: condition of the house\n",
    ">\n",
    "> Data type: object\n",
    "\n",
    "**grade**:\n",
    "> Description: rating of the house\n",
    ">\n",
    "> Data type: float\n",
    "\n",
    "**sqft_above**:\n",
    "> Description: How much sqft that is above ground\n",
    ">\n",
    "> Data type: float\n",
    "\n",
    "**sqft_basement**:\n",
    "> Description: How much sqft is in the basement\n",
    ">\n",
    "> Data type: int\n",
    "\n",
    "**yr_built**:\n",
    "> Description: year house was built\n",
    ">\n",
    "> Data type: float/int? \n",
    "\n",
    "**yr_renovated**:\n",
    "> Description: year house was renovated\n",
    ">\n",
    "> Data type: float/int?\n",
    "\n",
    "**zipcode**:\n",
    "> Description: what is the zipcode that the house resides in\n",
    ">\n",
    "> Data type: float\n",
    "\n",
    "**lat**:\n",
    "> Description: the latitude\n",
    ">\n",
    "> Data type: float\n",
    "\n",
    "**long**:\n",
    "> Description: the longtitude\n",
    ">\n",
    "> Data type: float\n",
    "\n",
    "**sqft_living15**:\n",
    "> Description: the amount of sqft at living 15\n",
    ">\n",
    "> Data type: int\n",
    "\n",
    "**sqft_lot15**:\n",
    "> Description: the amount of sqft on the lot 15 \n",
    ">\n",
    "> Data type: int"
   ]
  },
  {
   "cell_type": "markdown",
   "id": "318fbad1",
   "metadata": {},
   "source": [
    "#### Data Dictionary - House Sales Data\n",
    "\n",
    "**id**:\n",
    "> Description: id\n",
    ">\n",
    "> Data type: int\n",
    "\n",
    "**date**:\n",
    "> Description: date it was sold\n",
    ">\n",
    "> Data type: object\n",
    "\n",
    "**price**:\n",
    "> Description: price it was sold for\n",
    ">\n",
    "> Data type: object"
   ]
  },
  {
   "cell_type": "markdown",
   "id": "eead3ca6",
   "metadata": {},
   "source": [
    "### Step 5: Create Copies of DataFrames to Start Cleaning Process"
   ]
  },
  {
   "cell_type": "code",
   "execution_count": 8,
   "id": "d1157942",
   "metadata": {},
   "outputs": [],
   "source": [
    "###### TO DO ######\n",
    "\n",
    "# create a copy of house_data\n",
    "house_df = house_data.copy()\n",
    "# create a copy of sales_data\n",
    "sales_df = house_sales.copy()"
   ]
  },
  {
   "cell_type": "code",
   "execution_count": 9,
   "id": "ef764ac9",
   "metadata": {},
   "outputs": [
    {
     "data": {
      "text/html": [
       "<div>\n",
       "<style scoped>\n",
       "    .dataframe tbody tr th:only-of-type {\n",
       "        vertical-align: middle;\n",
       "    }\n",
       "\n",
       "    .dataframe tbody tr th {\n",
       "        vertical-align: top;\n",
       "    }\n",
       "\n",
       "    .dataframe thead th {\n",
       "        text-align: right;\n",
       "    }\n",
       "</style>\n",
       "<table border=\"1\" class=\"dataframe\">\n",
       "  <thead>\n",
       "    <tr style=\"text-align: right;\">\n",
       "      <th></th>\n",
       "      <th>Unnamed: 0</th>\n",
       "      <th>ID</th>\n",
       "      <th>Bedrooms</th>\n",
       "      <th>Bathrooms</th>\n",
       "      <th>SQFT living</th>\n",
       "      <th>SQFT lot</th>\n",
       "      <th>Floors</th>\n",
       "      <th>Waterfront?</th>\n",
       "      <th>View</th>\n",
       "      <th>House Condition</th>\n",
       "      <th>Grade</th>\n",
       "      <th>SQFT above</th>\n",
       "      <th>SQFT basement</th>\n",
       "      <th>Year Built</th>\n",
       "      <th>Year Renovated</th>\n",
       "      <th>Zipcode</th>\n",
       "      <th>Lat</th>\n",
       "      <th>Long</th>\n",
       "      <th>SQFT living 15</th>\n",
       "      <th>SQFT lot 15</th>\n",
       "    </tr>\n",
       "  </thead>\n",
       "  <tbody>\n",
       "    <tr>\n",
       "      <th>0</th>\n",
       "      <td>0</td>\n",
       "      <td>7129300520</td>\n",
       "      <td>3</td>\n",
       "      <td>1.00</td>\n",
       "      <td>1180</td>\n",
       "      <td>5650.0</td>\n",
       "      <td>1.0</td>\n",
       "      <td>No</td>\n",
       "      <td>Very Poor</td>\n",
       "      <td>OK Condition</td>\n",
       "      <td>7.0</td>\n",
       "      <td>1180.0</td>\n",
       "      <td>0</td>\n",
       "      <td>1955.0</td>\n",
       "      <td>NaN</td>\n",
       "      <td>98178.0</td>\n",
       "      <td>47.5112</td>\n",
       "      <td>-122.257</td>\n",
       "      <td>1340</td>\n",
       "      <td>5650</td>\n",
       "    </tr>\n",
       "    <tr>\n",
       "      <th>1</th>\n",
       "      <td>1</td>\n",
       "      <td>6414100192</td>\n",
       "      <td>3</td>\n",
       "      <td>2.25</td>\n",
       "      <td>2570</td>\n",
       "      <td>7242.0</td>\n",
       "      <td>2.0</td>\n",
       "      <td>No</td>\n",
       "      <td>Very Poor</td>\n",
       "      <td>OK Condition</td>\n",
       "      <td>7.0</td>\n",
       "      <td>2170.0</td>\n",
       "      <td>400</td>\n",
       "      <td>1951.0</td>\n",
       "      <td>1991.0</td>\n",
       "      <td>98125.0</td>\n",
       "      <td>47.7210</td>\n",
       "      <td>-122.319</td>\n",
       "      <td>1690</td>\n",
       "      <td>7639</td>\n",
       "    </tr>\n",
       "    <tr>\n",
       "      <th>2</th>\n",
       "      <td>2</td>\n",
       "      <td>5631500400</td>\n",
       "      <td>2</td>\n",
       "      <td>1.00</td>\n",
       "      <td>770</td>\n",
       "      <td>10000.0</td>\n",
       "      <td>1.0</td>\n",
       "      <td>No</td>\n",
       "      <td>Very Poor</td>\n",
       "      <td>OK Condition</td>\n",
       "      <td>6.0</td>\n",
       "      <td>770.0</td>\n",
       "      <td>0</td>\n",
       "      <td>1933.0</td>\n",
       "      <td>NaN</td>\n",
       "      <td>98028.0</td>\n",
       "      <td>47.7379</td>\n",
       "      <td>-122.233</td>\n",
       "      <td>2720</td>\n",
       "      <td>8062</td>\n",
       "    </tr>\n",
       "    <tr>\n",
       "      <th>3</th>\n",
       "      <td>3</td>\n",
       "      <td>2487200875</td>\n",
       "      <td>4</td>\n",
       "      <td>3.00</td>\n",
       "      <td>1960</td>\n",
       "      <td>5000.0</td>\n",
       "      <td>1.0</td>\n",
       "      <td>No</td>\n",
       "      <td>Very Poor</td>\n",
       "      <td>Great Condition</td>\n",
       "      <td>7.0</td>\n",
       "      <td>1050.0</td>\n",
       "      <td>910</td>\n",
       "      <td>1965.0</td>\n",
       "      <td>NaN</td>\n",
       "      <td>98136.0</td>\n",
       "      <td>47.5208</td>\n",
       "      <td>-122.393</td>\n",
       "      <td>1360</td>\n",
       "      <td>5000</td>\n",
       "    </tr>\n",
       "    <tr>\n",
       "      <th>4</th>\n",
       "      <td>4</td>\n",
       "      <td>1954400510</td>\n",
       "      <td>3</td>\n",
       "      <td>2.00</td>\n",
       "      <td>1680</td>\n",
       "      <td>8080.0</td>\n",
       "      <td>1.0</td>\n",
       "      <td>No</td>\n",
       "      <td>Very Poor</td>\n",
       "      <td>OK Condition</td>\n",
       "      <td>8.0</td>\n",
       "      <td>1680.0</td>\n",
       "      <td>0</td>\n",
       "      <td>1987.0</td>\n",
       "      <td>NaN</td>\n",
       "      <td>98074.0</td>\n",
       "      <td>47.6168</td>\n",
       "      <td>-122.045</td>\n",
       "      <td>1800</td>\n",
       "      <td>7503</td>\n",
       "    </tr>\n",
       "  </tbody>\n",
       "</table>\n",
       "</div>"
      ],
      "text/plain": [
       "   Unnamed: 0          ID  Bedrooms  Bathrooms  SQFT living  SQFT lot  Floors  \\\n",
       "0           0  7129300520         3       1.00         1180    5650.0     1.0   \n",
       "1           1  6414100192         3       2.25         2570    7242.0     2.0   \n",
       "2           2  5631500400         2       1.00          770   10000.0     1.0   \n",
       "3           3  2487200875         4       3.00         1960    5000.0     1.0   \n",
       "4           4  1954400510         3       2.00         1680    8080.0     1.0   \n",
       "\n",
       "  Waterfront?       View  House Condition  Grade  SQFT above  SQFT basement  \\\n",
       "0          No  Very Poor     OK Condition    7.0      1180.0              0   \n",
       "1          No  Very Poor     OK Condition    7.0      2170.0            400   \n",
       "2          No  Very Poor     OK Condition    6.0       770.0              0   \n",
       "3          No  Very Poor  Great Condition    7.0      1050.0            910   \n",
       "4          No  Very Poor     OK Condition    8.0      1680.0              0   \n",
       "\n",
       "   Year Built  Year Renovated  Zipcode      Lat     Long  SQFT living 15  \\\n",
       "0      1955.0             NaN  98178.0  47.5112 -122.257            1340   \n",
       "1      1951.0          1991.0  98125.0  47.7210 -122.319            1690   \n",
       "2      1933.0             NaN  98028.0  47.7379 -122.233            2720   \n",
       "3      1965.0             NaN  98136.0  47.5208 -122.393            1360   \n",
       "4      1987.0             NaN  98074.0  47.6168 -122.045            1800   \n",
       "\n",
       "   SQFT lot 15  \n",
       "0         5650  \n",
       "1         7639  \n",
       "2         8062  \n",
       "3         5000  \n",
       "4         7503  "
      ]
     },
     "execution_count": 9,
     "metadata": {},
     "output_type": "execute_result"
    }
   ],
   "source": [
    "###### TO DO ######\n",
    "\n",
    "# use .head() on your new dataframe to show the dataframe was copied succussfully\n",
    "house_df.head()"
   ]
  },
  {
   "cell_type": "code",
   "execution_count": 10,
   "id": "4b9fa892",
   "metadata": {},
   "outputs": [
    {
     "data": {
      "text/html": [
       "<div>\n",
       "<style scoped>\n",
       "    .dataframe tbody tr th:only-of-type {\n",
       "        vertical-align: middle;\n",
       "    }\n",
       "\n",
       "    .dataframe tbody tr th {\n",
       "        vertical-align: top;\n",
       "    }\n",
       "\n",
       "    .dataframe thead th {\n",
       "        text-align: right;\n",
       "    }\n",
       "</style>\n",
       "<table border=\"1\" class=\"dataframe\">\n",
       "  <thead>\n",
       "    <tr style=\"text-align: right;\">\n",
       "      <th></th>\n",
       "      <th>Unnamed: 0</th>\n",
       "      <th>Id</th>\n",
       "      <th>DATE</th>\n",
       "      <th>Price</th>\n",
       "    </tr>\n",
       "  </thead>\n",
       "  <tbody>\n",
       "    <tr>\n",
       "      <th>0</th>\n",
       "      <td>0</td>\n",
       "      <td>7129300520</td>\n",
       "      <td>20141013T000000</td>\n",
       "      <td>$221,900.00</td>\n",
       "    </tr>\n",
       "    <tr>\n",
       "      <th>1</th>\n",
       "      <td>1</td>\n",
       "      <td>6414100192</td>\n",
       "      <td>20141209T000000</td>\n",
       "      <td>$538,000.00</td>\n",
       "    </tr>\n",
       "    <tr>\n",
       "      <th>2</th>\n",
       "      <td>2</td>\n",
       "      <td>5631500400</td>\n",
       "      <td>20150225T000000</td>\n",
       "      <td>$180,000.00</td>\n",
       "    </tr>\n",
       "    <tr>\n",
       "      <th>3</th>\n",
       "      <td>3</td>\n",
       "      <td>2487200875</td>\n",
       "      <td>20141209T000000</td>\n",
       "      <td>$604,000.00</td>\n",
       "    </tr>\n",
       "    <tr>\n",
       "      <th>4</th>\n",
       "      <td>4</td>\n",
       "      <td>1954400510</td>\n",
       "      <td>20150218T000000</td>\n",
       "      <td>$510,000.00</td>\n",
       "    </tr>\n",
       "  </tbody>\n",
       "</table>\n",
       "</div>"
      ],
      "text/plain": [
       "   Unnamed: 0          Id             DATE        Price\n",
       "0           0  7129300520  20141013T000000  $221,900.00\n",
       "1           1  6414100192  20141209T000000  $538,000.00\n",
       "2           2  5631500400  20150225T000000  $180,000.00\n",
       "3           3  2487200875  20141209T000000  $604,000.00\n",
       "4           4  1954400510  20150218T000000  $510,000.00"
      ]
     },
     "execution_count": 10,
     "metadata": {},
     "output_type": "execute_result"
    }
   ],
   "source": [
    "###### TO DO ######\n",
    "\n",
    "# use .head() on your second new dataframe to show the dataframe was copied succussfully\n",
    "sales_df.head()"
   ]
  },
  {
   "cell_type": "markdown",
   "id": "02736475",
   "metadata": {},
   "source": [
    "## Part 2: Assess Data and Create Data Cleaning Plan"
   ]
  },
  {
   "cell_type": "markdown",
   "id": "1666070a",
   "metadata": {},
   "source": [
    "### Step 1: Check Column Names, Casing, Spelling, Etc."
   ]
  },
  {
   "cell_type": "code",
   "execution_count": 11,
   "id": "7a3cdce7",
   "metadata": {},
   "outputs": [
    {
     "name": "stdout",
     "output_type": "stream",
     "text": [
      "<class 'pandas.core.frame.DataFrame'>\n",
      "RangeIndex: 21613 entries, 0 to 21612\n",
      "Data columns (total 20 columns):\n",
      " #   Column           Non-Null Count  Dtype  \n",
      "---  ------           --------------  -----  \n",
      " 0   Unnamed: 0       21613 non-null  int64  \n",
      " 1   ID               21613 non-null  int64  \n",
      " 2   Bedrooms         21613 non-null  int64  \n",
      " 3   Bathrooms        21611 non-null  float64\n",
      " 4   SQFT living      21613 non-null  int64  \n",
      " 5   SQFT lot         21611 non-null  float64\n",
      " 6   Floors           21613 non-null  float64\n",
      " 7   Waterfront?      21605 non-null  object \n",
      " 8   View             21611 non-null  object \n",
      " 9   House Condition  21607 non-null  object \n",
      " 10  Grade            21611 non-null  float64\n",
      " 11  SQFT above       21612 non-null  float64\n",
      " 12  SQFT basement    21613 non-null  int64  \n",
      " 13  Year Built       21612 non-null  float64\n",
      " 14  Year Renovated   21276 non-null  float64\n",
      " 15  Zipcode          21610 non-null  float64\n",
      " 16  Lat              21612 non-null  float64\n",
      " 17  Long             21612 non-null  float64\n",
      " 18  SQFT living 15   21613 non-null  int64  \n",
      " 19  SQFT lot 15      21613 non-null  int64  \n",
      "dtypes: float64(10), int64(7), object(3)\n",
      "memory usage: 3.3+ MB\n",
      "<class 'pandas.core.frame.DataFrame'>\n",
      "RangeIndex: 21613 entries, 0 to 21612\n",
      "Data columns (total 4 columns):\n",
      " #   Column      Non-Null Count  Dtype \n",
      "---  ------      --------------  ----- \n",
      " 0   Unnamed: 0  21613 non-null  int64 \n",
      " 1   Id          21613 non-null  int64 \n",
      " 2   DATE        21613 non-null  object\n",
      " 3   Price       21609 non-null  object\n",
      "dtypes: int64(2), object(2)\n",
      "memory usage: 675.5+ KB\n"
     ]
    },
    {
     "data": {
      "text/html": [
       "<div>\n",
       "<style scoped>\n",
       "    .dataframe tbody tr th:only-of-type {\n",
       "        vertical-align: middle;\n",
       "    }\n",
       "\n",
       "    .dataframe tbody tr th {\n",
       "        vertical-align: top;\n",
       "    }\n",
       "\n",
       "    .dataframe thead th {\n",
       "        text-align: right;\n",
       "    }\n",
       "</style>\n",
       "<table border=\"1\" class=\"dataframe\">\n",
       "  <thead>\n",
       "    <tr style=\"text-align: right;\">\n",
       "      <th></th>\n",
       "      <th>Unnamed: 0</th>\n",
       "      <th>Id</th>\n",
       "      <th>DATE</th>\n",
       "      <th>Price</th>\n",
       "    </tr>\n",
       "  </thead>\n",
       "  <tbody>\n",
       "    <tr>\n",
       "      <th>0</th>\n",
       "      <td>0</td>\n",
       "      <td>7129300520</td>\n",
       "      <td>20141013T000000</td>\n",
       "      <td>$221,900.00</td>\n",
       "    </tr>\n",
       "    <tr>\n",
       "      <th>1</th>\n",
       "      <td>1</td>\n",
       "      <td>6414100192</td>\n",
       "      <td>20141209T000000</td>\n",
       "      <td>$538,000.00</td>\n",
       "    </tr>\n",
       "    <tr>\n",
       "      <th>2</th>\n",
       "      <td>2</td>\n",
       "      <td>5631500400</td>\n",
       "      <td>20150225T000000</td>\n",
       "      <td>$180,000.00</td>\n",
       "    </tr>\n",
       "    <tr>\n",
       "      <th>3</th>\n",
       "      <td>3</td>\n",
       "      <td>2487200875</td>\n",
       "      <td>20141209T000000</td>\n",
       "      <td>$604,000.00</td>\n",
       "    </tr>\n",
       "    <tr>\n",
       "      <th>4</th>\n",
       "      <td>4</td>\n",
       "      <td>1954400510</td>\n",
       "      <td>20150218T000000</td>\n",
       "      <td>$510,000.00</td>\n",
       "    </tr>\n",
       "  </tbody>\n",
       "</table>\n",
       "</div>"
      ],
      "text/plain": [
       "   Unnamed: 0          Id             DATE        Price\n",
       "0           0  7129300520  20141013T000000  $221,900.00\n",
       "1           1  6414100192  20141209T000000  $538,000.00\n",
       "2           2  5631500400  20150225T000000  $180,000.00\n",
       "3           3  2487200875  20141209T000000  $604,000.00\n",
       "4           4  1954400510  20150218T000000  $510,000.00"
      ]
     },
     "execution_count": 11,
     "metadata": {},
     "output_type": "execute_result"
    }
   ],
   "source": [
    "######################### TO DO ###################################\n",
    "house_df.info()\n",
    "house_df.head()\n",
    "sales_df.info()\n",
    "sales_df.head()\n",
    "####### FOLLOW PROJECT DIRECTIONS TO COMPLETE THIS STEP ###########"
   ]
  },
  {
   "cell_type": "markdown",
   "id": "2a550fef",
   "metadata": {},
   "source": [
    "### Step 2: Validate Data Types"
   ]
  },
  {
   "cell_type": "code",
   "execution_count": 12,
   "id": "e293ef89",
   "metadata": {},
   "outputs": [],
   "source": [
    "######################### TO DO ###################################\n",
    "\n",
    "####### FOLLOW PROJECT DIRECTIONS TO COMPLETE THIS STEP ###########"
   ]
  },
  {
   "cell_type": "markdown",
   "id": "2eb00941",
   "metadata": {},
   "source": [
    "Q: Do any of the data types in the dataframe need to be changed?\n",
    "A: Waterfront needs to be changed from object data type to a boolean, because it is a yes or no scenario.\n",
    "   Zipcode needs to be changed from float to a string. \n",
    "   ID needs to be changed from an int to a string.\n",
    "   \n",
    "   Date changed from object to datetime"
   ]
  },
  {
   "cell_type": "markdown",
   "id": "b401a0c1",
   "metadata": {},
   "source": [
    "A: #### TO DO #####\n"
   ]
  },
  {
   "cell_type": "markdown",
   "id": "dd4fd9cb",
   "metadata": {},
   "source": [
    "### Step 3: Detect Missing Values"
   ]
  },
  {
   "cell_type": "code",
   "execution_count": 13,
   "id": "1e69dc73",
   "metadata": {},
   "outputs": [
    {
     "data": {
      "text/plain": [
       "Unnamed: 0           0\n",
       "ID                   0\n",
       "Bedrooms             0\n",
       "Bathrooms            2\n",
       "SQFT living          0\n",
       "SQFT lot             2\n",
       "Floors               0\n",
       "Waterfront?          8\n",
       "View                 2\n",
       "House Condition      6\n",
       "Grade                2\n",
       "SQFT above           1\n",
       "SQFT basement        0\n",
       "Year Built           1\n",
       "Year Renovated     337\n",
       "Zipcode              3\n",
       "Lat                  1\n",
       "Long                 1\n",
       "SQFT living 15       0\n",
       "SQFT lot 15          0\n",
       "dtype: int64"
      ]
     },
     "execution_count": 13,
     "metadata": {},
     "output_type": "execute_result"
    }
   ],
   "source": [
    "######################### TO DO ###################################\n",
    "\n",
    "####### FOLLOW PROJECT DIRECTIONS TO COMPLETE THIS STEP ###########\n",
    "house_df.isna().sum()\n"
   ]
  },
  {
   "cell_type": "code",
   "execution_count": 14,
   "id": "ac9622f1",
   "metadata": {},
   "outputs": [
    {
     "data": {
      "text/plain": [
       "Unnamed: 0    0\n",
       "Id            0\n",
       "DATE          0\n",
       "Price         4\n",
       "dtype: int64"
      ]
     },
     "execution_count": 14,
     "metadata": {},
     "output_type": "execute_result"
    }
   ],
   "source": [
    "sales_df.isna().sum()"
   ]
  },
  {
   "cell_type": "markdown",
   "id": "95c2804a",
   "metadata": {},
   "source": [
    "Q: Which variables/columns have missing values?"
   ]
  },
  {
   "cell_type": "markdown",
   "id": "2c83cda7",
   "metadata": {},
   "source": [
    "A: ##### TO DO #####\n",
    "Bathrooms\n",
    "sqft lot\n",
    "waterfront\n",
    "view\n",
    "house condition\n",
    "grade\n",
    "sqft above\n",
    "year built\n",
    "year renovated\n",
    "zipcode\n",
    "lat\n",
    "long\n",
    "price"
   ]
  },
  {
   "cell_type": "markdown",
   "id": "ab831c3a",
   "metadata": {},
   "source": [
    "### Step 4: Detect Outliers"
   ]
  },
  {
   "cell_type": "code",
   "execution_count": 15,
   "id": "ab13309c",
   "metadata": {},
   "outputs": [],
   "source": [
    "######################### TO DO ###################################\n",
    "\n",
    "####### FOLLOW PROJECT DIRECTIONS TO COMPLETE THIS STEP ###########"
   ]
  },
  {
   "cell_type": "markdown",
   "id": "b662e1d4",
   "metadata": {},
   "source": [
    "Q: Which variables/columns have outliers?"
   ]
  },
  {
   "cell_type": "markdown",
   "id": "805b94b3",
   "metadata": {},
   "source": [
    "A: ##### TO DO #####\n"
   ]
  },
  {
   "cell_type": "code",
   "execution_count": null,
   "id": "73e344bf",
   "metadata": {},
   "outputs": [],
   "source": []
  },
  {
   "cell_type": "code",
   "execution_count": 16,
   "id": "697a468a",
   "metadata": {},
   "outputs": [
    {
     "data": {
      "text/plain": [
       "<AxesSubplot:>"
      ]
     },
     "execution_count": 16,
     "metadata": {},
     "output_type": "execute_result"
    },
    {
     "data": {
      "image/png": "[encoded data removed]",
      "text/plain": [
       "<Figure size 640x480 with 1 Axes>"
      ]
     },
     "metadata": {},
     "output_type": "display_data"
    }
   ],
   "source": [
    "sns.boxplot(data=house_df['Bedrooms'])"
   ]
  },
  {
   "cell_type": "code",
   "execution_count": 17,
   "id": "67b75e13",
   "metadata": {},
   "outputs": [
    {
     "data": {
      "text/plain": [
       "count    21613.000000\n",
       "mean         3.372091\n",
       "std          0.947533\n",
       "min          0.000000\n",
       "25%          3.000000\n",
       "50%          3.000000\n",
       "75%          4.000000\n",
       "max         33.000000\n",
       "Name: Bedrooms, dtype: float64"
      ]
     },
     "execution_count": 17,
     "metadata": {},
     "output_type": "execute_result"
    }
   ],
   "source": [
    "house_df['Bedrooms'].describe()"
   ]
  },
  {
   "cell_type": "code",
   "execution_count": 18,
   "id": "44f46b5f",
   "metadata": {},
   "outputs": [
    {
     "data": {
      "text/plain": [
       "<AxesSubplot:>"
      ]
     },
     "execution_count": 18,
     "metadata": {},
     "output_type": "execute_result"
    },
    {
     "data": {
      "image/png": "[encoded data removed]",
      "text/plain": [
       "<Figure size 640x480 with 1 Axes>"
      ]
     },
     "metadata": {},
     "output_type": "display_data"
    }
   ],
   "source": [
    "sns.boxplot(data=house_df['Bathrooms'])"
   ]
  },
  {
   "cell_type": "code",
   "execution_count": 19,
   "id": "0794d72d",
   "metadata": {},
   "outputs": [
    {
     "data": {
      "text/plain": [
       "<AxesSubplot:>"
      ]
     },
     "execution_count": 19,
     "metadata": {},
     "output_type": "execute_result"
    },
    {
     "data": {
      "image/png": "[encoded data removed]",
      "text/plain": [
       "<Figure size 640x480 with 1 Axes>"
      ]
     },
     "metadata": {},
     "output_type": "display_data"
    }
   ],
   "source": [
    "sns.boxplot(data=house_df['SQFT living'])"
   ]
  },
  {
   "cell_type": "code",
   "execution_count": 20,
   "id": "ee90e608",
   "metadata": {},
   "outputs": [
    {
     "data": {
      "text/plain": [
       "<AxesSubplot:>"
      ]
     },
     "execution_count": 20,
     "metadata": {},
     "output_type": "execute_result"
    },
    {
     "data": {
      "image/png": "[encoded data removed]",
      "text/plain": [
       "<Figure size 640x480 with 1 Axes>"
      ]
     },
     "metadata": {},
     "output_type": "display_data"
    }
   ],
   "source": [
    "sns.boxplot(data=house_df['SQFT lot'])"
   ]
  },
  {
   "cell_type": "code",
   "execution_count": 21,
   "id": "6f706034",
   "metadata": {},
   "outputs": [
    {
     "data": {
      "text/plain": [
       "<AxesSubplot:>"
      ]
     },
     "execution_count": 21,
     "metadata": {},
     "output_type": "execute_result"
    },
    {
     "data": {
      "image/png": "[encoded data removed]",
      "text/plain": [
       "<Figure size 640x480 with 1 Axes>"
      ]
     },
     "metadata": {},
     "output_type": "display_data"
    }
   ],
   "source": [
    "sns.boxplot(data=house_df['Floors'])"
   ]
  },
  {
   "cell_type": "code",
   "execution_count": 22,
   "id": "b3170ff1",
   "metadata": {},
   "outputs": [
    {
     "data": {
      "text/plain": [
       "<AxesSubplot:>"
      ]
     },
     "execution_count": 22,
     "metadata": {},
     "output_type": "execute_result"
    },
    {
     "data": {
      "image/png": "[encoded data removed]",
      "text/plain": [
       "<Figure size 640x480 with 1 Axes>"
      ]
     },
     "metadata": {},
     "output_type": "display_data"
    }
   ],
   "source": [
    "sns.boxplot(data=house_df['Grade'])"
   ]
  },
  {
   "cell_type": "code",
   "execution_count": 23,
   "id": "f7096d5e",
   "metadata": {},
   "outputs": [
    {
     "data": {
      "text/plain": [
       "<AxesSubplot:>"
      ]
     },
     "execution_count": 23,
     "metadata": {},
     "output_type": "execute_result"
    },
    {
     "data": {
      "image/png": "[encoded data removed]",
      "text/plain": [
       "<Figure size 640x480 with 1 Axes>"
      ]
     },
     "metadata": {},
     "output_type": "display_data"
    }
   ],
   "source": [
    "sns.boxplot(data=house_df['SQFT above'])"
   ]
  },
  {
   "cell_type": "code",
   "execution_count": 24,
   "id": "dbfca9d8",
   "metadata": {},
   "outputs": [
    {
     "data": {
      "text/plain": [
       "<AxesSubplot:>"
      ]
     },
     "execution_count": 24,
     "metadata": {},
     "output_type": "execute_result"
    },
    {
     "data": {
      "image/png": "[encoded data removed]",
      "text/plain": [
       "<Figure size 640x480 with 1 Axes>"
      ]
     },
     "metadata": {},
     "output_type": "display_data"
    }
   ],
   "source": [
    "sns.boxplot(data=house_df['SQFT basement'])"
   ]
  },
  {
   "cell_type": "code",
   "execution_count": 25,
   "id": "fde04d77",
   "metadata": {},
   "outputs": [
    {
     "data": {
      "text/plain": [
       "<AxesSubplot:>"
      ]
     },
     "execution_count": 25,
     "metadata": {},
     "output_type": "execute_result"
    },
    {
     "data": {
      "image/png": "[encoded data removed]",
      "text/plain": [
       "<Figure size 640x480 with 1 Axes>"
      ]
     },
     "metadata": {},
     "output_type": "display_data"
    }
   ],
   "source": [
    "sns.boxplot(data=house_df['SQFT basement'])"
   ]
  },
  {
   "cell_type": "code",
   "execution_count": 26,
   "id": "9668232f",
   "metadata": {},
   "outputs": [
    {
     "data": {
      "text/plain": [
       "<AxesSubplot:>"
      ]
     },
     "execution_count": 26,
     "metadata": {},
     "output_type": "execute_result"
    },
    {
     "data": {
      "image/png": "[encoded data removed]",
      "text/plain": [
       "<Figure size 640x480 with 1 Axes>"
      ]
     },
     "metadata": {},
     "output_type": "display_data"
    }
   ],
   "source": [
    "sns.boxplot(data=house_df['Year Built'])"
   ]
  },
  {
   "cell_type": "code",
   "execution_count": 27,
   "id": "2ca9906a",
   "metadata": {},
   "outputs": [
    {
     "data": {
      "text/plain": [
       "<AxesSubplot:>"
      ]
     },
     "execution_count": 27,
     "metadata": {},
     "output_type": "execute_result"
    },
    {
     "data": {
      "image/png": "[encoded data removed]",
      "text/plain": [
       "<Figure size 640x480 with 1 Axes>"
      ]
     },
     "metadata": {},
     "output_type": "display_data"
    }
   ],
   "source": [
    "sns.boxplot(data=house_df['Year Renovated'])"
   ]
  },
  {
   "cell_type": "code",
   "execution_count": 28,
   "id": "c129abc3",
   "metadata": {},
   "outputs": [
    {
     "data": {
      "text/plain": [
       "<AxesSubplot:>"
      ]
     },
     "execution_count": 28,
     "metadata": {},
     "output_type": "execute_result"
    },
    {
     "data": {
      "image/png": "[encoded data removed]",
      "text/plain": [
       "<Figure size 640x480 with 1 Axes>"
      ]
     },
     "metadata": {},
     "output_type": "display_data"
    }
   ],
   "source": [
    "sns.boxplot(data=house_df['SQFT living 15'])"
   ]
  },
  {
   "cell_type": "code",
   "execution_count": 29,
   "id": "9e924fe3",
   "metadata": {},
   "outputs": [
    {
     "data": {
      "text/plain": [
       "<AxesSubplot:>"
      ]
     },
     "execution_count": 29,
     "metadata": {},
     "output_type": "execute_result"
    },
    {
     "data": {
      "image/png": "[encoded data removed]",
      "text/plain": [
       "<Figure size 640x480 with 1 Axes>"
      ]
     },
     "metadata": {},
     "output_type": "display_data"
    }
   ],
   "source": [
    "sns.boxplot(data=house_df['SQFT lot 15'])"
   ]
  },
  {
   "cell_type": "code",
   "execution_count": 30,
   "id": "1a1bf97a",
   "metadata": {},
   "outputs": [],
   "source": [
    "#WHICH VARIABLES/COLUMNS HAVE OUTLIERS?"
   ]
  },
  {
   "cell_type": "code",
   "execution_count": 31,
   "id": "4f1e6a96",
   "metadata": {},
   "outputs": [],
   "source": [
    "#A: bedrooms, bathrooms, sqft living, sqft lot, grade, sqft above, sqft basement, year built, year renovated, sqft living 15, sqft lot 15.\n"
   ]
  },
  {
   "cell_type": "markdown",
   "id": "fa8404ee",
   "metadata": {},
   "source": [
    "### Step 5: Write Data Cleaning Plan "
   ]
  },
  {
   "cell_type": "code",
   "execution_count": 32,
   "id": "b8363572",
   "metadata": {},
   "outputs": [],
   "source": [
    "######################### TO DO ###################################\n",
    "\n",
    "####### FOLLOW PROJECT DIRECTIONS TO COMPLETE THIS STEP ###########"
   ]
  },
  {
   "cell_type": "markdown",
   "id": "ffaead81",
   "metadata": {},
   "source": [
    "#### Data Cleaning Plan:\n",
    "\n",
    "####### TO DO #######"
   ]
  },
  {
   "cell_type": "code",
   "execution_count": 33,
   "id": "f85ab0ed",
   "metadata": {},
   "outputs": [],
   "source": [
    "#FIX NAMES\n",
    "#FIX DATATYPES\n",
    "#FIX MISSING VALUES\n",
    "#FIX OUTLIERS"
   ]
  },
  {
   "cell_type": "markdown",
   "id": "2b013db9",
   "metadata": {},
   "source": [
    "## Part 3: Execute Data Cleaning Plan Using DEFINE / CLEAN / TEST Approach"
   ]
  },
  {
   "cell_type": "markdown",
   "id": "e3c2577a",
   "metadata": {},
   "source": [
    "### Step 1: Understand DEFINE / CLEAN / TEST Approach"
   ]
  },
  {
   "cell_type": "markdown",
   "id": "c83b7b6e",
   "metadata": {},
   "source": [
    "Refer to project instructions for an explanation of this step. You can copy and past the template in the cell below to use in each step of Part 3 as you are treating the issues you found in the data. "
   ]
  },
  {
   "cell_type": "code",
   "execution_count": 34,
   "id": "dde1bdbb",
   "metadata": {},
   "outputs": [],
   "source": [
    "### DEFINE ###\n",
    "\n",
    "# Description of change and why\n",
    "\n",
    "### CLEAN ### \n",
    "\n",
    "# Function used\n",
    "\n",
    "### TEST ###\n",
    "\n",
    "# .head() to show test worked"
   ]
  },
  {
   "cell_type": "markdown",
   "id": "659b978b",
   "metadata": {},
   "source": [
    "### Step 2: Treat Names / Casing / Spelling Issues"
   ]
  },
  {
   "cell_type": "code",
   "execution_count": 35,
   "id": "82b0d7c7",
   "metadata": {},
   "outputs": [],
   "source": [
    "######################### TO DO ###################################\n",
    "\n",
    "####### FOLLOW PROJECT DIRECTIONS TO COMPLETE THIS STEP ###########"
   ]
  },
  {
   "cell_type": "code",
   "execution_count": 36,
   "id": "96693e11",
   "metadata": {
    "scrolled": true
   },
   "outputs": [
    {
     "data": {
      "text/html": [
       "<div>\n",
       "<style scoped>\n",
       "    .dataframe tbody tr th:only-of-type {\n",
       "        vertical-align: middle;\n",
       "    }\n",
       "\n",
       "    .dataframe tbody tr th {\n",
       "        vertical-align: top;\n",
       "    }\n",
       "\n",
       "    .dataframe thead th {\n",
       "        text-align: right;\n",
       "    }\n",
       "</style>\n",
       "<table border=\"1\" class=\"dataframe\">\n",
       "  <thead>\n",
       "    <tr style=\"text-align: right;\">\n",
       "      <th></th>\n",
       "      <th>id</th>\n",
       "      <th>bedrooms</th>\n",
       "      <th>bathrooms</th>\n",
       "      <th>sqft_living</th>\n",
       "      <th>sqft_lot</th>\n",
       "      <th>floors</th>\n",
       "      <th>waterfront</th>\n",
       "      <th>view</th>\n",
       "      <th>house_condition</th>\n",
       "      <th>grade</th>\n",
       "      <th>sqft_above</th>\n",
       "      <th>sqft_basement</th>\n",
       "      <th>year_built</th>\n",
       "      <th>year_renovated</th>\n",
       "      <th>zipcode</th>\n",
       "      <th>lat</th>\n",
       "      <th>long</th>\n",
       "      <th>sqft_living_15</th>\n",
       "      <th>sqft_lot_15</th>\n",
       "    </tr>\n",
       "  </thead>\n",
       "  <tbody>\n",
       "    <tr>\n",
       "      <th>0</th>\n",
       "      <td>7129300520</td>\n",
       "      <td>3</td>\n",
       "      <td>1.00</td>\n",
       "      <td>1180</td>\n",
       "      <td>5650.0</td>\n",
       "      <td>1.0</td>\n",
       "      <td>No</td>\n",
       "      <td>Very Poor</td>\n",
       "      <td>OK Condition</td>\n",
       "      <td>7.0</td>\n",
       "      <td>1180.0</td>\n",
       "      <td>0</td>\n",
       "      <td>1955.0</td>\n",
       "      <td>NaN</td>\n",
       "      <td>98178.0</td>\n",
       "      <td>47.5112</td>\n",
       "      <td>-122.257</td>\n",
       "      <td>1340</td>\n",
       "      <td>5650</td>\n",
       "    </tr>\n",
       "    <tr>\n",
       "      <th>1</th>\n",
       "      <td>6414100192</td>\n",
       "      <td>3</td>\n",
       "      <td>2.25</td>\n",
       "      <td>2570</td>\n",
       "      <td>7242.0</td>\n",
       "      <td>2.0</td>\n",
       "      <td>No</td>\n",
       "      <td>Very Poor</td>\n",
       "      <td>OK Condition</td>\n",
       "      <td>7.0</td>\n",
       "      <td>2170.0</td>\n",
       "      <td>400</td>\n",
       "      <td>1951.0</td>\n",
       "      <td>1991.0</td>\n",
       "      <td>98125.0</td>\n",
       "      <td>47.7210</td>\n",
       "      <td>-122.319</td>\n",
       "      <td>1690</td>\n",
       "      <td>7639</td>\n",
       "    </tr>\n",
       "    <tr>\n",
       "      <th>2</th>\n",
       "      <td>5631500400</td>\n",
       "      <td>2</td>\n",
       "      <td>1.00</td>\n",
       "      <td>770</td>\n",
       "      <td>10000.0</td>\n",
       "      <td>1.0</td>\n",
       "      <td>No</td>\n",
       "      <td>Very Poor</td>\n",
       "      <td>OK Condition</td>\n",
       "      <td>6.0</td>\n",
       "      <td>770.0</td>\n",
       "      <td>0</td>\n",
       "      <td>1933.0</td>\n",
       "      <td>NaN</td>\n",
       "      <td>98028.0</td>\n",
       "      <td>47.7379</td>\n",
       "      <td>-122.233</td>\n",
       "      <td>2720</td>\n",
       "      <td>8062</td>\n",
       "    </tr>\n",
       "    <tr>\n",
       "      <th>3</th>\n",
       "      <td>2487200875</td>\n",
       "      <td>4</td>\n",
       "      <td>3.00</td>\n",
       "      <td>1960</td>\n",
       "      <td>5000.0</td>\n",
       "      <td>1.0</td>\n",
       "      <td>No</td>\n",
       "      <td>Very Poor</td>\n",
       "      <td>Great Condition</td>\n",
       "      <td>7.0</td>\n",
       "      <td>1050.0</td>\n",
       "      <td>910</td>\n",
       "      <td>1965.0</td>\n",
       "      <td>NaN</td>\n",
       "      <td>98136.0</td>\n",
       "      <td>47.5208</td>\n",
       "      <td>-122.393</td>\n",
       "      <td>1360</td>\n",
       "      <td>5000</td>\n",
       "    </tr>\n",
       "    <tr>\n",
       "      <th>4</th>\n",
       "      <td>1954400510</td>\n",
       "      <td>3</td>\n",
       "      <td>2.00</td>\n",
       "      <td>1680</td>\n",
       "      <td>8080.0</td>\n",
       "      <td>1.0</td>\n",
       "      <td>No</td>\n",
       "      <td>Very Poor</td>\n",
       "      <td>OK Condition</td>\n",
       "      <td>8.0</td>\n",
       "      <td>1680.0</td>\n",
       "      <td>0</td>\n",
       "      <td>1987.0</td>\n",
       "      <td>NaN</td>\n",
       "      <td>98074.0</td>\n",
       "      <td>47.6168</td>\n",
       "      <td>-122.045</td>\n",
       "      <td>1800</td>\n",
       "      <td>7503</td>\n",
       "    </tr>\n",
       "  </tbody>\n",
       "</table>\n",
       "</div>"
      ],
      "text/plain": [
       "           id  bedrooms  bathrooms  sqft_living  sqft_lot  floors waterfront  \\\n",
       "0  7129300520         3       1.00         1180    5650.0     1.0         No   \n",
       "1  6414100192         3       2.25         2570    7242.0     2.0         No   \n",
       "2  5631500400         2       1.00          770   10000.0     1.0         No   \n",
       "3  2487200875         4       3.00         1960    5000.0     1.0         No   \n",
       "4  1954400510         3       2.00         1680    8080.0     1.0         No   \n",
       "\n",
       "        view  house_condition  grade  sqft_above  sqft_basement  year_built  \\\n",
       "0  Very Poor     OK Condition    7.0      1180.0              0      1955.0   \n",
       "1  Very Poor     OK Condition    7.0      2170.0            400      1951.0   \n",
       "2  Very Poor     OK Condition    6.0       770.0              0      1933.0   \n",
       "3  Very Poor  Great Condition    7.0      1050.0            910      1965.0   \n",
       "4  Very Poor     OK Condition    8.0      1680.0              0      1987.0   \n",
       "\n",
       "   year_renovated  zipcode      lat     long  sqft_living_15  sqft_lot_15  \n",
       "0             NaN  98178.0  47.5112 -122.257            1340         5650  \n",
       "1          1991.0  98125.0  47.7210 -122.319            1690         7639  \n",
       "2             NaN  98028.0  47.7379 -122.233            2720         8062  \n",
       "3             NaN  98136.0  47.5208 -122.393            1360         5000  \n",
       "4             NaN  98074.0  47.6168 -122.045            1800         7503  "
      ]
     },
     "execution_count": 36,
     "metadata": {},
     "output_type": "execute_result"
    }
   ],
   "source": [
    "### DEFINE ###\n",
    "#Drop Unnamed column. Change all columns to lower case, get rid of question mark on Waterfront.\n",
    "\n",
    "### CLEAN ### \n",
    "def snake_case(dataframe):\n",
    "    dataframe.columns = dataframe.columns.str.replace(' ', '_')\n",
    "    return dataframe\n",
    "\n",
    "house_df = snake_case(house_df)\n",
    "\n",
    "\n",
    "house_df.drop(house_df.columns[[0]], axis=1, inplace=True)\n",
    "house_df.columns= house_df.columns.str.lower()\n",
    "house_df.rename(columns = {'waterfront?':'waterfront'}, inplace = True)\n",
    "\n",
    "### TEST ###\n",
    "house_df.head()\n"
   ]
  },
  {
   "cell_type": "code",
   "execution_count": 37,
   "id": "67864754",
   "metadata": {
    "scrolled": false
   },
   "outputs": [
    {
     "data": {
      "text/html": [
       "<div>\n",
       "<style scoped>\n",
       "    .dataframe tbody tr th:only-of-type {\n",
       "        vertical-align: middle;\n",
       "    }\n",
       "\n",
       "    .dataframe tbody tr th {\n",
       "        vertical-align: top;\n",
       "    }\n",
       "\n",
       "    .dataframe thead th {\n",
       "        text-align: right;\n",
       "    }\n",
       "</style>\n",
       "<table border=\"1\" class=\"dataframe\">\n",
       "  <thead>\n",
       "    <tr style=\"text-align: right;\">\n",
       "      <th></th>\n",
       "      <th>id</th>\n",
       "      <th>date</th>\n",
       "      <th>price</th>\n",
       "    </tr>\n",
       "  </thead>\n",
       "  <tbody>\n",
       "    <tr>\n",
       "      <th>0</th>\n",
       "      <td>7129300520</td>\n",
       "      <td>20141013T000000</td>\n",
       "      <td>$221,900.00</td>\n",
       "    </tr>\n",
       "    <tr>\n",
       "      <th>1</th>\n",
       "      <td>6414100192</td>\n",
       "      <td>20141209T000000</td>\n",
       "      <td>$538,000.00</td>\n",
       "    </tr>\n",
       "    <tr>\n",
       "      <th>2</th>\n",
       "      <td>5631500400</td>\n",
       "      <td>20150225T000000</td>\n",
       "      <td>$180,000.00</td>\n",
       "    </tr>\n",
       "    <tr>\n",
       "      <th>3</th>\n",
       "      <td>2487200875</td>\n",
       "      <td>20141209T000000</td>\n",
       "      <td>$604,000.00</td>\n",
       "    </tr>\n",
       "    <tr>\n",
       "      <th>4</th>\n",
       "      <td>1954400510</td>\n",
       "      <td>20150218T000000</td>\n",
       "      <td>$510,000.00</td>\n",
       "    </tr>\n",
       "  </tbody>\n",
       "</table>\n",
       "</div>"
      ],
      "text/plain": [
       "           id             date        price\n",
       "0  7129300520  20141013T000000  $221,900.00\n",
       "1  6414100192  20141209T000000  $538,000.00\n",
       "2  5631500400  20150225T000000  $180,000.00\n",
       "3  2487200875  20141209T000000  $604,000.00\n",
       "4  1954400510  20150218T000000  $510,000.00"
      ]
     },
     "execution_count": 37,
     "metadata": {},
     "output_type": "execute_result"
    }
   ],
   "source": [
    "### DEFINE ###\n",
    "#drop unnamed column, change all to lowercase\n",
    "\n",
    "### CLEAN ### \n",
    "sales_df.drop(sales_df.columns[[0]], axis=1, inplace=True)\n",
    "sales_df.columns= sales_df.columns.str.lower()\n",
    "\n",
    "### TEST ###\n",
    "\n",
    "sales_df.head()"
   ]
  },
  {
   "cell_type": "markdown",
   "id": "33e34ee1",
   "metadata": {},
   "source": [
    "### Step 3: Treat Missing Values"
   ]
  },
  {
   "cell_type": "code",
   "execution_count": 38,
   "id": "86a525d0",
   "metadata": {},
   "outputs": [],
   "source": [
    "######################### TO DO ###################################\n",
    "\n",
    "####### FOLLOW PROJECT DIRECTIONS TO COMPLETE THIS STEP ###########"
   ]
  },
  {
   "cell_type": "code",
   "execution_count": 39,
   "id": "4ea01014",
   "metadata": {},
   "outputs": [
    {
     "data": {
      "text/plain": [
       "id                 0\n",
       "bedrooms           0\n",
       "bathrooms          0\n",
       "sqft_living        0\n",
       "sqft_lot           0\n",
       "floors             0\n",
       "waterfront         0\n",
       "view               0\n",
       "house_condition    0\n",
       "grade              0\n",
       "sqft_above         0\n",
       "sqft_basement      0\n",
       "year_built         0\n",
       "zipcode            0\n",
       "lat                0\n",
       "long               0\n",
       "sqft_living_15     0\n",
       "sqft_lot_15        0\n",
       "dtype: int64"
      ]
     },
     "execution_count": 39,
     "metadata": {},
     "output_type": "execute_result"
    }
   ],
   "source": [
    "### DEFINE ###\n",
    "#Dropping year renovated due to multiple NaN. \n",
    "#Missing values in each column\n",
    "#Values will be filled with the mean.\n",
    "\n",
    "### CLEAN ### \n",
    "house_df.bathrooms = house_df.bathrooms.fillna(house_df.bathrooms.mean())\n",
    "house_df.sqft_lot = house_df.sqft_lot.fillna(house_df.sqft_lot.mean())\n",
    "house_df.dropna(axis=0, how='any', inplace=True)\n",
    "view_mode = house_df['view'].mode()\n",
    "house_df['view'].fillna(value=view_mode[0], inplace=True)\n",
    "condition_mode = house_df['house_condition'].mode()\n",
    "house_df['house_condition'].fillna(value=condition_mode[0], inplace=True)\n",
    "house_df.grade = house_df.grade.fillna(house_df.grade.mean())\n",
    "house_df.sqft_above = house_df.sqft_above.fillna(house_df.sqft_above.mean())\n",
    "house_df.year_built = house_df.year_built.fillna(house_df.year_built.mean())\n",
    "house_df.drop(columns=['year_renovated'], inplace=True)\n",
    "house_df.zipcode = house_df.zipcode.fillna(house_df.zipcode.mean())\n",
    "house_df.dropna(subset=['lat', 'long'], inplace=True)\n",
    "### TEST ###\n",
    "house_df.isnull().sum()\n"
   ]
  },
  {
   "cell_type": "code",
   "execution_count": 40,
   "id": "e9afde82",
   "metadata": {},
   "outputs": [
    {
     "data": {
      "text/plain": [
       "id       0\n",
       "date     0\n",
       "price    0\n",
       "dtype: int64"
      ]
     },
     "execution_count": 40,
     "metadata": {},
     "output_type": "execute_result"
    }
   ],
   "source": [
    "### DEFINE ###\n",
    "#Need to remove NaN on price\n",
    "\n",
    "\n",
    "### CLEAN ### \n",
    "\n",
    "sales_df.dropna(subset=['price'], inplace=True)\n",
    "\n",
    "### TEST ###\n",
    "\n",
    "sales_df.isnull().sum()"
   ]
  },
  {
   "cell_type": "markdown",
   "id": "8397cecc",
   "metadata": {},
   "source": [
    "### Step 4: Treat Outliers"
   ]
  },
  {
   "cell_type": "code",
   "execution_count": 41,
   "id": "217889fd",
   "metadata": {},
   "outputs": [],
   "source": [
    "######################### TO DO ###################################\n",
    "\n",
    "####### FOLLOW PROJECT DIRECTIONS TO COMPLETE THIS STEP ###########"
   ]
  },
  {
   "cell_type": "code",
   "execution_count": 42,
   "id": "ae93f85c",
   "metadata": {},
   "outputs": [],
   "source": [
    "from scipy.stats import zscore"
   ]
  },
  {
   "cell_type": "code",
   "execution_count": 43,
   "id": "0f99ae6a",
   "metadata": {
    "scrolled": true
   },
   "outputs": [
    {
     "data": {
      "text/html": [
       "<div>\n",
       "<style scoped>\n",
       "    .dataframe tbody tr th:only-of-type {\n",
       "        vertical-align: middle;\n",
       "    }\n",
       "\n",
       "    .dataframe tbody tr th {\n",
       "        vertical-align: top;\n",
       "    }\n",
       "\n",
       "    .dataframe thead th {\n",
       "        text-align: right;\n",
       "    }\n",
       "</style>\n",
       "<table border=\"1\" class=\"dataframe\">\n",
       "  <thead>\n",
       "    <tr style=\"text-align: right;\">\n",
       "      <th></th>\n",
       "      <th>id</th>\n",
       "      <th>bedrooms</th>\n",
       "      <th>bathrooms</th>\n",
       "      <th>sqft_living</th>\n",
       "      <th>sqft_lot</th>\n",
       "      <th>floors</th>\n",
       "      <th>waterfront</th>\n",
       "      <th>view</th>\n",
       "      <th>house_condition</th>\n",
       "      <th>grade</th>\n",
       "      <th>...</th>\n",
       "      <th>bedrooms_zscore</th>\n",
       "      <th>bathrooms_zscore</th>\n",
       "      <th>sqft_living_zscore</th>\n",
       "      <th>sqft_lot_zscore</th>\n",
       "      <th>grade_zscore</th>\n",
       "      <th>sqft_above_zscore</th>\n",
       "      <th>sqft_basement_zscore</th>\n",
       "      <th>year_built_zscore</th>\n",
       "      <th>sqft_living_15_zscore</th>\n",
       "      <th>sqft_lot_15_zscore</th>\n",
       "    </tr>\n",
       "  </thead>\n",
       "  <tbody>\n",
       "    <tr>\n",
       "      <th>1</th>\n",
       "      <td>6414100192</td>\n",
       "      <td>3</td>\n",
       "      <td>2.25</td>\n",
       "      <td>2570</td>\n",
       "      <td>7242.0</td>\n",
       "      <td>2.0</td>\n",
       "      <td>No</td>\n",
       "      <td>Very Poor</td>\n",
       "      <td>OK Condition</td>\n",
       "      <td>7.0</td>\n",
       "      <td>...</td>\n",
       "      <td>-0.399118</td>\n",
       "      <td>0.173892</td>\n",
       "      <td>0.532737</td>\n",
       "      <td>-0.189435</td>\n",
       "      <td>-0.558705</td>\n",
       "      <td>0.456334</td>\n",
       "      <td>0.247125</td>\n",
       "      <td>-0.663507</td>\n",
       "      <td>-0.433016</td>\n",
       "      <td>-0.056627</td>\n",
       "    </tr>\n",
       "    <tr>\n",
       "      <th>35</th>\n",
       "      <td>9547205180</td>\n",
       "      <td>3</td>\n",
       "      <td>2.50</td>\n",
       "      <td>2300</td>\n",
       "      <td>3060.0</td>\n",
       "      <td>1.5</td>\n",
       "      <td>No</td>\n",
       "      <td>Very Poor</td>\n",
       "      <td>OK Condition</td>\n",
       "      <td>8.0</td>\n",
       "      <td>...</td>\n",
       "      <td>-0.399118</td>\n",
       "      <td>0.498493</td>\n",
       "      <td>0.238986</td>\n",
       "      <td>-0.289888</td>\n",
       "      <td>0.291371</td>\n",
       "      <td>-0.336249</td>\n",
       "      <td>1.129541</td>\n",
       "      <td>-1.360559</td>\n",
       "      <td>-0.578893</td>\n",
       "      <td>-0.099232</td>\n",
       "    </tr>\n",
       "    <tr>\n",
       "      <th>95</th>\n",
       "      <td>1483300570</td>\n",
       "      <td>4</td>\n",
       "      <td>2.50</td>\n",
       "      <td>3300</td>\n",
       "      <td>10250.0</td>\n",
       "      <td>1.0</td>\n",
       "      <td>No</td>\n",
       "      <td>Very Poor</td>\n",
       "      <td>OK Condition</td>\n",
       "      <td>7.0</td>\n",
       "      <td>...</td>\n",
       "      <td>0.674661</td>\n",
       "      <td>0.498493</td>\n",
       "      <td>1.326952</td>\n",
       "      <td>-0.117182</td>\n",
       "      <td>-0.558705</td>\n",
       "      <td>0.720529</td>\n",
       "      <td>1.401053</td>\n",
       "      <td>-0.829472</td>\n",
       "      <td>-0.053735</td>\n",
       "      <td>-0.072150</td>\n",
       "    </tr>\n",
       "    <tr>\n",
       "      <th>103</th>\n",
       "      <td>2450000295</td>\n",
       "      <td>3</td>\n",
       "      <td>2.50</td>\n",
       "      <td>2920</td>\n",
       "      <td>8113.0</td>\n",
       "      <td>2.0</td>\n",
       "      <td>No</td>\n",
       "      <td>Very Poor</td>\n",
       "      <td>OK Condition</td>\n",
       "      <td>8.0</td>\n",
       "      <td>...</td>\n",
       "      <td>-0.399118</td>\n",
       "      <td>0.498493</td>\n",
       "      <td>0.913525</td>\n",
       "      <td>-0.168513</td>\n",
       "      <td>0.291371</td>\n",
       "      <td>1.356997</td>\n",
       "      <td>-0.657916</td>\n",
       "      <td>-0.696700</td>\n",
       "      <td>0.558950</td>\n",
       "      <td>-0.052011</td>\n",
       "    </tr>\n",
       "    <tr>\n",
       "      <th>115</th>\n",
       "      <td>3626039325</td>\n",
       "      <td>3</td>\n",
       "      <td>3.50</td>\n",
       "      <td>4380</td>\n",
       "      <td>6350.0</td>\n",
       "      <td>2.0</td>\n",
       "      <td>No</td>\n",
       "      <td>Very Poor</td>\n",
       "      <td>OK Condition</td>\n",
       "      <td>8.0</td>\n",
       "      <td>...</td>\n",
       "      <td>-0.399118</td>\n",
       "      <td>1.796897</td>\n",
       "      <td>2.501954</td>\n",
       "      <td>-0.210861</td>\n",
       "      <td>0.291371</td>\n",
       "      <td>1.188873</td>\n",
       "      <td>2.962249</td>\n",
       "      <td>-2.356348</td>\n",
       "      <td>-0.228788</td>\n",
       "      <td>-0.069179</td>\n",
       "    </tr>\n",
       "  </tbody>\n",
       "</table>\n",
       "<p>5 rows × 28 columns</p>\n",
       "</div>"
      ],
      "text/plain": [
       "             id  bedrooms  bathrooms  sqft_living  sqft_lot  floors  \\\n",
       "1    6414100192         3       2.25         2570    7242.0     2.0   \n",
       "35   9547205180         3       2.50         2300    3060.0     1.5   \n",
       "95   1483300570         4       2.50         3300   10250.0     1.0   \n",
       "103  2450000295         3       2.50         2920    8113.0     2.0   \n",
       "115  3626039325         3       3.50         4380    6350.0     2.0   \n",
       "\n",
       "    waterfront       view house_condition  grade  ...  bedrooms_zscore  \\\n",
       "1           No  Very Poor    OK Condition    7.0  ...        -0.399118   \n",
       "35          No  Very Poor    OK Condition    8.0  ...        -0.399118   \n",
       "95          No  Very Poor    OK Condition    7.0  ...         0.674661   \n",
       "103         No  Very Poor    OK Condition    8.0  ...        -0.399118   \n",
       "115         No  Very Poor    OK Condition    8.0  ...        -0.399118   \n",
       "\n",
       "     bathrooms_zscore  sqft_living_zscore  sqft_lot_zscore  grade_zscore  \\\n",
       "1            0.173892            0.532737        -0.189435     -0.558705   \n",
       "35           0.498493            0.238986        -0.289888      0.291371   \n",
       "95           0.498493            1.326952        -0.117182     -0.558705   \n",
       "103          0.498493            0.913525        -0.168513      0.291371   \n",
       "115          1.796897            2.501954        -0.210861      0.291371   \n",
       "\n",
       "     sqft_above_zscore  sqft_basement_zscore  year_built_zscore  \\\n",
       "1             0.456334              0.247125          -0.663507   \n",
       "35           -0.336249              1.129541          -1.360559   \n",
       "95            0.720529              1.401053          -0.829472   \n",
       "103           1.356997             -0.657916          -0.696700   \n",
       "115           1.188873              2.962249          -2.356348   \n",
       "\n",
       "     sqft_living_15_zscore  sqft_lot_15_zscore  \n",
       "1                -0.433016           -0.056627  \n",
       "35               -0.578893           -0.099232  \n",
       "95               -0.053735           -0.072150  \n",
       "103               0.558950           -0.052011  \n",
       "115              -0.228788           -0.069179  \n",
       "\n",
       "[5 rows x 28 columns]"
      ]
     },
     "execution_count": 43,
     "metadata": {},
     "output_type": "execute_result"
    }
   ],
   "source": [
    "### DEFINE ###\n",
    "#using zscore to rid the data of outliers\n",
    "\n",
    "### CLEAN ### \n",
    "out_arr = ['bedrooms', 'bathrooms', 'sqft_living', 'sqft_lot', 'grade', 'sqft_above', 'sqft_basement', 'year_built', 'sqft_living_15', 'sqft_lot_15']\n",
    "\n",
    "for i in out_arr:\n",
    "    house_df[f'{i}_zscore'] = zscore(house_df[f'{i}'])\n",
    "### TEST ###\n",
    "\n",
    "house_df.head()"
   ]
  },
  {
   "cell_type": "code",
   "execution_count": 44,
   "id": "f13f39c2",
   "metadata": {},
   "outputs": [
    {
     "name": "stdout",
     "output_type": "stream",
     "text": [
      "<class 'pandas.core.frame.DataFrame'>\n",
      "Int64Index: 20168 entries, 1 to 21611\n",
      "Data columns (total 28 columns):\n",
      " #   Column                 Non-Null Count  Dtype  \n",
      "---  ------                 --------------  -----  \n",
      " 0   id                     20168 non-null  int64  \n",
      " 1   bedrooms               20168 non-null  int64  \n",
      " 2   bathrooms              20168 non-null  float64\n",
      " 3   sqft_living            20168 non-null  int64  \n",
      " 4   sqft_lot               20168 non-null  float64\n",
      " 5   floors                 20168 non-null  float64\n",
      " 6   waterfront             20168 non-null  object \n",
      " 7   view                   20168 non-null  object \n",
      " 8   house_condition        20168 non-null  object \n",
      " 9   grade                  20168 non-null  float64\n",
      " 10  sqft_above             20168 non-null  float64\n",
      " 11  sqft_basement          20168 non-null  int64  \n",
      " 12  year_built             20168 non-null  float64\n",
      " 13  zipcode                20168 non-null  float64\n",
      " 14  lat                    20168 non-null  float64\n",
      " 15  long                   20168 non-null  float64\n",
      " 16  sqft_living_15         20168 non-null  int64  \n",
      " 17  sqft_lot_15            20168 non-null  int64  \n",
      " 18  bedrooms_zscore        20168 non-null  float64\n",
      " 19  bathrooms_zscore       20168 non-null  float64\n",
      " 20  sqft_living_zscore     20168 non-null  float64\n",
      " 21  sqft_lot_zscore        20168 non-null  float64\n",
      " 22  grade_zscore           20168 non-null  float64\n",
      " 23  sqft_above_zscore      20168 non-null  float64\n",
      " 24  sqft_basement_zscore   20168 non-null  float64\n",
      " 25  year_built_zscore      20168 non-null  float64\n",
      " 26  sqft_living_15_zscore  20168 non-null  float64\n",
      " 27  sqft_lot_15_zscore     20168 non-null  float64\n",
      "dtypes: float64(19), int64(6), object(3)\n",
      "memory usage: 4.5+ MB\n"
     ]
    },
    {
     "data": {
      "text/html": [
       "<div>\n",
       "<style scoped>\n",
       "    .dataframe tbody tr th:only-of-type {\n",
       "        vertical-align: middle;\n",
       "    }\n",
       "\n",
       "    .dataframe tbody tr th {\n",
       "        vertical-align: top;\n",
       "    }\n",
       "\n",
       "    .dataframe thead th {\n",
       "        text-align: right;\n",
       "    }\n",
       "</style>\n",
       "<table border=\"1\" class=\"dataframe\">\n",
       "  <thead>\n",
       "    <tr style=\"text-align: right;\">\n",
       "      <th></th>\n",
       "      <th>id</th>\n",
       "      <th>bedrooms</th>\n",
       "      <th>bathrooms</th>\n",
       "      <th>sqft_living</th>\n",
       "      <th>sqft_lot</th>\n",
       "      <th>floors</th>\n",
       "      <th>waterfront</th>\n",
       "      <th>view</th>\n",
       "      <th>house_condition</th>\n",
       "      <th>grade</th>\n",
       "      <th>...</th>\n",
       "      <th>bedrooms_zscore</th>\n",
       "      <th>bathrooms_zscore</th>\n",
       "      <th>sqft_living_zscore</th>\n",
       "      <th>sqft_lot_zscore</th>\n",
       "      <th>grade_zscore</th>\n",
       "      <th>sqft_above_zscore</th>\n",
       "      <th>sqft_basement_zscore</th>\n",
       "      <th>year_built_zscore</th>\n",
       "      <th>sqft_living_15_zscore</th>\n",
       "      <th>sqft_lot_15_zscore</th>\n",
       "    </tr>\n",
       "  </thead>\n",
       "  <tbody>\n",
       "    <tr>\n",
       "      <th>1</th>\n",
       "      <td>6414100192</td>\n",
       "      <td>3</td>\n",
       "      <td>2.25</td>\n",
       "      <td>2570</td>\n",
       "      <td>7242.0</td>\n",
       "      <td>2.0</td>\n",
       "      <td>No</td>\n",
       "      <td>Very Poor</td>\n",
       "      <td>OK Condition</td>\n",
       "      <td>7.0</td>\n",
       "      <td>...</td>\n",
       "      <td>-0.399118</td>\n",
       "      <td>0.173892</td>\n",
       "      <td>0.532737</td>\n",
       "      <td>-0.189435</td>\n",
       "      <td>-0.558705</td>\n",
       "      <td>0.456334</td>\n",
       "      <td>0.247125</td>\n",
       "      <td>-0.663507</td>\n",
       "      <td>-0.433016</td>\n",
       "      <td>-0.056627</td>\n",
       "    </tr>\n",
       "    <tr>\n",
       "      <th>35</th>\n",
       "      <td>9547205180</td>\n",
       "      <td>3</td>\n",
       "      <td>2.50</td>\n",
       "      <td>2300</td>\n",
       "      <td>3060.0</td>\n",
       "      <td>1.5</td>\n",
       "      <td>No</td>\n",
       "      <td>Very Poor</td>\n",
       "      <td>OK Condition</td>\n",
       "      <td>8.0</td>\n",
       "      <td>...</td>\n",
       "      <td>-0.399118</td>\n",
       "      <td>0.498493</td>\n",
       "      <td>0.238986</td>\n",
       "      <td>-0.289888</td>\n",
       "      <td>0.291371</td>\n",
       "      <td>-0.336249</td>\n",
       "      <td>1.129541</td>\n",
       "      <td>-1.360559</td>\n",
       "      <td>-0.578893</td>\n",
       "      <td>-0.099232</td>\n",
       "    </tr>\n",
       "    <tr>\n",
       "      <th>95</th>\n",
       "      <td>1483300570</td>\n",
       "      <td>4</td>\n",
       "      <td>2.50</td>\n",
       "      <td>3300</td>\n",
       "      <td>10250.0</td>\n",
       "      <td>1.0</td>\n",
       "      <td>No</td>\n",
       "      <td>Very Poor</td>\n",
       "      <td>OK Condition</td>\n",
       "      <td>7.0</td>\n",
       "      <td>...</td>\n",
       "      <td>0.674661</td>\n",
       "      <td>0.498493</td>\n",
       "      <td>1.326952</td>\n",
       "      <td>-0.117182</td>\n",
       "      <td>-0.558705</td>\n",
       "      <td>0.720529</td>\n",
       "      <td>1.401053</td>\n",
       "      <td>-0.829472</td>\n",
       "      <td>-0.053735</td>\n",
       "      <td>-0.072150</td>\n",
       "    </tr>\n",
       "    <tr>\n",
       "      <th>103</th>\n",
       "      <td>2450000295</td>\n",
       "      <td>3</td>\n",
       "      <td>2.50</td>\n",
       "      <td>2920</td>\n",
       "      <td>8113.0</td>\n",
       "      <td>2.0</td>\n",
       "      <td>No</td>\n",
       "      <td>Very Poor</td>\n",
       "      <td>OK Condition</td>\n",
       "      <td>8.0</td>\n",
       "      <td>...</td>\n",
       "      <td>-0.399118</td>\n",
       "      <td>0.498493</td>\n",
       "      <td>0.913525</td>\n",
       "      <td>-0.168513</td>\n",
       "      <td>0.291371</td>\n",
       "      <td>1.356997</td>\n",
       "      <td>-0.657916</td>\n",
       "      <td>-0.696700</td>\n",
       "      <td>0.558950</td>\n",
       "      <td>-0.052011</td>\n",
       "    </tr>\n",
       "    <tr>\n",
       "      <th>115</th>\n",
       "      <td>3626039325</td>\n",
       "      <td>3</td>\n",
       "      <td>3.50</td>\n",
       "      <td>4380</td>\n",
       "      <td>6350.0</td>\n",
       "      <td>2.0</td>\n",
       "      <td>No</td>\n",
       "      <td>Very Poor</td>\n",
       "      <td>OK Condition</td>\n",
       "      <td>8.0</td>\n",
       "      <td>...</td>\n",
       "      <td>-0.399118</td>\n",
       "      <td>1.796897</td>\n",
       "      <td>2.501954</td>\n",
       "      <td>-0.210861</td>\n",
       "      <td>0.291371</td>\n",
       "      <td>1.188873</td>\n",
       "      <td>2.962249</td>\n",
       "      <td>-2.356348</td>\n",
       "      <td>-0.228788</td>\n",
       "      <td>-0.069179</td>\n",
       "    </tr>\n",
       "  </tbody>\n",
       "</table>\n",
       "<p>5 rows × 28 columns</p>\n",
       "</div>"
      ],
      "text/plain": [
       "             id  bedrooms  bathrooms  sqft_living  sqft_lot  floors  \\\n",
       "1    6414100192         3       2.25         2570    7242.0     2.0   \n",
       "35   9547205180         3       2.50         2300    3060.0     1.5   \n",
       "95   1483300570         4       2.50         3300   10250.0     1.0   \n",
       "103  2450000295         3       2.50         2920    8113.0     2.0   \n",
       "115  3626039325         3       3.50         4380    6350.0     2.0   \n",
       "\n",
       "    waterfront       view house_condition  grade  ...  bedrooms_zscore  \\\n",
       "1           No  Very Poor    OK Condition    7.0  ...        -0.399118   \n",
       "35          No  Very Poor    OK Condition    8.0  ...        -0.399118   \n",
       "95          No  Very Poor    OK Condition    7.0  ...         0.674661   \n",
       "103         No  Very Poor    OK Condition    8.0  ...        -0.399118   \n",
       "115         No  Very Poor    OK Condition    8.0  ...        -0.399118   \n",
       "\n",
       "     bathrooms_zscore  sqft_living_zscore  sqft_lot_zscore  grade_zscore  \\\n",
       "1            0.173892            0.532737        -0.189435     -0.558705   \n",
       "35           0.498493            0.238986        -0.289888      0.291371   \n",
       "95           0.498493            1.326952        -0.117182     -0.558705   \n",
       "103          0.498493            0.913525        -0.168513      0.291371   \n",
       "115          1.796897            2.501954        -0.210861      0.291371   \n",
       "\n",
       "     sqft_above_zscore  sqft_basement_zscore  year_built_zscore  \\\n",
       "1             0.456334              0.247125          -0.663507   \n",
       "35           -0.336249              1.129541          -1.360559   \n",
       "95            0.720529              1.401053          -0.829472   \n",
       "103           1.356997             -0.657916          -0.696700   \n",
       "115           1.188873              2.962249          -2.356348   \n",
       "\n",
       "     sqft_living_15_zscore  sqft_lot_15_zscore  \n",
       "1                -0.433016           -0.056627  \n",
       "35               -0.578893           -0.099232  \n",
       "95               -0.053735           -0.072150  \n",
       "103               0.558950           -0.052011  \n",
       "115              -0.228788           -0.069179  \n",
       "\n",
       "[5 rows x 28 columns]"
      ]
     },
     "execution_count": 44,
     "metadata": {},
     "output_type": "execute_result"
    }
   ],
   "source": [
    "### DEFINE ###\n",
    "#using zscore to rid the data of outliers\n",
    "\n",
    "### CLEAN ### \n",
    "\n",
    "for i in out_arr:\n",
    "    if i == 'year_renovated': # not relevant to sort out.\n",
    "        house_df.drop(house_df[(house_df[f'{i}_zscore'] > 4) | (house_df[f'{i}_zscore'] < -4)].index, inplace=True)\n",
    "    else:\n",
    "        house_df.drop(house_df[(house_df[f'{i}_zscore'] > 3) | (house_df[f'{i}_zscore'] < -3)].index, inplace=True)\n",
    "\n",
    "### TEST ###\n",
    "house_df.info()\n",
    "house_df.head()"
   ]
  },
  {
   "cell_type": "markdown",
   "id": "0a54e6b7",
   "metadata": {},
   "source": [
    "### Step 5: Summarize Actions Taken & Justify Approach"
   ]
  },
  {
   "cell_type": "code",
   "execution_count": 45,
   "id": "151012ff",
   "metadata": {},
   "outputs": [],
   "source": [
    "######################### TO DO ###################################\n",
    "\n",
    "####### FOLLOW PROJECT DIRECTIONS TO COMPLETE THIS STEP ###########"
   ]
  },
  {
   "cell_type": "markdown",
   "id": "0b825639",
   "metadata": {},
   "source": [
    "####### TO DO ######\n",
    "#Column Names were all changed to lowercase and snake_case to make easier with coding purposed and readability.\n",
    "#Outliers were fixed with zscore\n",
    "#Datatypes were fixed\n",
    "#NaN replaced with mean and mode\n"
   ]
  },
  {
   "cell_type": "markdown",
   "id": "be32e952",
   "metadata": {},
   "source": [
    "## Part 4: Re-Express Categorical Variables"
   ]
  },
  {
   "cell_type": "markdown",
   "id": "60bcdbc8",
   "metadata": {},
   "source": [
    "### Step 1: Determine Which Variables Need to Be Re-Expressed"
   ]
  },
  {
   "cell_type": "code",
   "execution_count": 46,
   "id": "4aecd3ad",
   "metadata": {},
   "outputs": [
    {
     "name": "stdout",
     "output_type": "stream",
     "text": [
      "<class 'pandas.core.frame.DataFrame'>\n",
      "Int64Index: 20168 entries, 1 to 21611\n",
      "Data columns (total 28 columns):\n",
      " #   Column                 Non-Null Count  Dtype  \n",
      "---  ------                 --------------  -----  \n",
      " 0   id                     20168 non-null  int64  \n",
      " 1   bedrooms               20168 non-null  int64  \n",
      " 2   bathrooms              20168 non-null  float64\n",
      " 3   sqft_living            20168 non-null  int64  \n",
      " 4   sqft_lot               20168 non-null  float64\n",
      " 5   floors                 20168 non-null  float64\n",
      " 6   waterfront             20168 non-null  object \n",
      " 7   view                   20168 non-null  object \n",
      " 8   house_condition        20168 non-null  object \n",
      " 9   grade                  20168 non-null  float64\n",
      " 10  sqft_above             20168 non-null  float64\n",
      " 11  sqft_basement          20168 non-null  int64  \n",
      " 12  year_built             20168 non-null  float64\n",
      " 13  zipcode                20168 non-null  float64\n",
      " 14  lat                    20168 non-null  float64\n",
      " 15  long                   20168 non-null  float64\n",
      " 16  sqft_living_15         20168 non-null  int64  \n",
      " 17  sqft_lot_15            20168 non-null  int64  \n",
      " 18  bedrooms_zscore        20168 non-null  float64\n",
      " 19  bathrooms_zscore       20168 non-null  float64\n",
      " 20  sqft_living_zscore     20168 non-null  float64\n",
      " 21  sqft_lot_zscore        20168 non-null  float64\n",
      " 22  grade_zscore           20168 non-null  float64\n",
      " 23  sqft_above_zscore      20168 non-null  float64\n",
      " 24  sqft_basement_zscore   20168 non-null  float64\n",
      " 25  year_built_zscore      20168 non-null  float64\n",
      " 26  sqft_living_15_zscore  20168 non-null  float64\n",
      " 27  sqft_lot_15_zscore     20168 non-null  float64\n",
      "dtypes: float64(19), int64(6), object(3)\n",
      "memory usage: 4.5+ MB\n"
     ]
    }
   ],
   "source": [
    "######################### TO DO ###################################\n",
    "\n",
    "####### FOLLOW PROJECT DIRECTIONS TO COMPLETE THIS STEP ###########\n",
    "house_df.info()"
   ]
  },
  {
   "cell_type": "markdown",
   "id": "1f856e80",
   "metadata": {},
   "source": [
    "List categorical variables which need to be re-expressed here:\n",
    "\n",
    "- ########## TO DO ########### waterfront\n",
    "- ########## TO DO ########### view\n",
    "- ########## TO DO ########### house_condition\n",
    "- ########## TO DO ########### ........"
   ]
  },
  {
   "cell_type": "markdown",
   "id": "b6b6cbdb",
   "metadata": {},
   "source": [
    "### Step 2: Choose Method to Re-Express Variables"
   ]
  },
  {
   "cell_type": "code",
   "execution_count": 47,
   "id": "0c8977ed",
   "metadata": {},
   "outputs": [],
   "source": [
    "######################### TO DO ###################################\n",
    "\n",
    "####### FOLLOW PROJECT DIRECTIONS TO COMPLETE THIS STEP ###########"
   ]
  },
  {
   "cell_type": "markdown",
   "id": "dc0fd315",
   "metadata": {},
   "source": [
    "Edit this cell to explain which method you are choosing to re-express each variable and why. \n",
    "waterfront: changing to nominal value where 1 = Yes and 0 = No\n",
    "house_condition: numbers 1-5 assigned to each value 1 being very bad condition and 5 being great condition\n",
    "view: make numbers 1-5 assigned to each value 1 being very poor and 5 being great\n"
   ]
  },
  {
   "cell_type": "markdown",
   "id": "f4c3e76b",
   "metadata": {},
   "source": [
    "### Step 3: Perform Transformation "
   ]
  },
  {
   "cell_type": "code",
   "execution_count": 48,
   "id": "8542a6d1",
   "metadata": {},
   "outputs": [],
   "source": [
    "######################### TO DO ###################################\n",
    "\n",
    "####### FOLLOW PROJECT DIRECTIONS TO COMPLETE THIS STEP ###########\n"
   ]
  },
  {
   "cell_type": "code",
   "execution_count": 49,
   "id": "d5042c87",
   "metadata": {},
   "outputs": [
    {
     "data": {
      "text/plain": [
       "array(['No', 'Yes'], dtype=object)"
      ]
     },
     "execution_count": 49,
     "metadata": {},
     "output_type": "execute_result"
    }
   ],
   "source": [
    "house_df.waterfront.unique()"
   ]
  },
  {
   "cell_type": "code",
   "execution_count": 50,
   "id": "03b119a0",
   "metadata": {},
   "outputs": [],
   "source": [
    "house_df['waterfront'] = house_df['waterfront'].replace({'Yes':1, \"No\":0})"
   ]
  },
  {
   "cell_type": "code",
   "execution_count": 51,
   "id": "ac7e38a8",
   "metadata": {},
   "outputs": [
    {
     "data": {
      "text/plain": [
       "array([0, 1], dtype=int64)"
      ]
     },
     "execution_count": 51,
     "metadata": {},
     "output_type": "execute_result"
    }
   ],
   "source": [
    "house_df.waterfront.unique()"
   ]
  },
  {
   "cell_type": "code",
   "execution_count": 52,
   "id": "72ae9784",
   "metadata": {},
   "outputs": [
    {
     "data": {
      "text/plain": [
       "array(['Very Poor', 'Good', 'Great', 'Poor', 'Neutral'], dtype=object)"
      ]
     },
     "execution_count": 52,
     "metadata": {},
     "output_type": "execute_result"
    }
   ],
   "source": [
    "house_df.view.unique()"
   ]
  },
  {
   "cell_type": "code",
   "execution_count": 53,
   "id": "6a9dd0c2",
   "metadata": {},
   "outputs": [],
   "source": [
    "house_df['view'] = house_df['view'].replace({'Very Poor':1, 'Poor':2, 'Neutral':3, 'Good':4, 'Great':5})"
   ]
  },
  {
   "cell_type": "code",
   "execution_count": 54,
   "id": "7719e694",
   "metadata": {},
   "outputs": [
    {
     "data": {
      "text/plain": [
       "array([1, 4, 5, 2, 3], dtype=int64)"
      ]
     },
     "execution_count": 54,
     "metadata": {},
     "output_type": "execute_result"
    }
   ],
   "source": [
    "house_df['view'].unique()"
   ]
  },
  {
   "cell_type": "code",
   "execution_count": 55,
   "id": "16b0569a",
   "metadata": {},
   "outputs": [
    {
     "data": {
      "text/plain": [
       "array(['OK Condition', 'Great Condition', 'Good Condition',\n",
       "       'Bad Condition', 'Very Bad Condition'], dtype=object)"
      ]
     },
     "execution_count": 55,
     "metadata": {},
     "output_type": "execute_result"
    }
   ],
   "source": [
    "house_df['house_condition'].unique()"
   ]
  },
  {
   "cell_type": "code",
   "execution_count": 56,
   "id": "7092fefe",
   "metadata": {},
   "outputs": [],
   "source": [
    "house_df['house_condition'] = house_df['house_condition'].replace({'Very Bad Condition':1, 'Bad Condition':2, 'OK Condition':3, 'Good Condition':4, 'Great Condition':5})"
   ]
  },
  {
   "cell_type": "code",
   "execution_count": 57,
   "id": "a410d8e8",
   "metadata": {},
   "outputs": [
    {
     "data": {
      "text/plain": [
       "array([3, 5, 4, 2, 1], dtype=int64)"
      ]
     },
     "execution_count": 57,
     "metadata": {},
     "output_type": "execute_result"
    }
   ],
   "source": [
    "house_df['house_condition'].unique()"
   ]
  },
  {
   "cell_type": "markdown",
   "id": "f2ce1391",
   "metadata": {},
   "source": [
    "### Step 4: Summarize Actions Taken & Justify Approach"
   ]
  },
  {
   "cell_type": "code",
   "execution_count": 58,
   "id": "d87dcba1",
   "metadata": {},
   "outputs": [],
   "source": [
    "######################### TO DO ###################################\n",
    "\n",
    "####### FOLLOW PROJECT DIRECTIONS TO COMPLETE THIS STEP ###########"
   ]
  },
  {
   "cell_type": "markdown",
   "id": "fdd1a79e",
   "metadata": {},
   "source": [
    "Edit this cell to add your summary and justification per project instructions.\n",
    "waterfront: changed to nominal value where 1 = Yes and 0 = No\n",
    "house_condition: made numbers 1-5 assigned to each value 1 being very bad condition and 5 being great condition\n",
    "view: made numbers 1-5 assigned to each value 1 being very poor and 5 being great\n",
    "\n",
    "I made waterfront 0 & 1 to represent a boolean value of true and false or yes and no\n",
    "view and house_condition were defined in a bad to good scale so i gave each of those strings values from 1-5."
   ]
  },
  {
   "cell_type": "markdown",
   "id": "e592a7c3",
   "metadata": {},
   "source": [
    "## Part 5: Combine Datasets into Master DataFrame"
   ]
  },
  {
   "cell_type": "markdown",
   "id": "faf1efd6",
   "metadata": {},
   "source": [
    "### Step 1: Choose Method to Merge DataFrames into New Master DataFrame"
   ]
  },
  {
   "cell_type": "code",
   "execution_count": 59,
   "id": "f2915bd5",
   "metadata": {},
   "outputs": [],
   "source": [
    "######################### TO DO ###################################\n",
    "\n",
    "####### FOLLOW PROJECT DIRECTIONS TO COMPLETE THIS STEP ###########"
   ]
  },
  {
   "cell_type": "markdown",
   "id": "519d0760",
   "metadata": {},
   "source": [
    "Edit this cell to explain which method you are choosing to merge the data and why. \n",
    "The .merge method because its the most understandable considering id is prevalent in both house_df and sales_df"
   ]
  },
  {
   "cell_type": "markdown",
   "id": "4b9afb13",
   "metadata": {},
   "source": [
    "### Step 2: Merge DataFrames"
   ]
  },
  {
   "cell_type": "code",
   "execution_count": 60,
   "id": "99031a01",
   "metadata": {},
   "outputs": [],
   "source": [
    "######################### TO DO ###################################\n",
    "\n",
    "####### FOLLOW PROJECT DIRECTIONS TO COMPLETE THIS STEP ###########\n",
    "master_df = sales_df.merge(house_df, on='id')\n"
   ]
  },
  {
   "cell_type": "code",
   "execution_count": 63,
   "id": "55fb9a12",
   "metadata": {},
   "outputs": [
    {
     "data": {
      "text/html": [
       "<div>\n",
       "<style scoped>\n",
       "    .dataframe tbody tr th:only-of-type {\n",
       "        vertical-align: middle;\n",
       "    }\n",
       "\n",
       "    .dataframe tbody tr th {\n",
       "        vertical-align: top;\n",
       "    }\n",
       "\n",
       "    .dataframe thead th {\n",
       "        text-align: right;\n",
       "    }\n",
       "</style>\n",
       "<table border=\"1\" class=\"dataframe\">\n",
       "  <thead>\n",
       "    <tr style=\"text-align: right;\">\n",
       "      <th></th>\n",
       "      <th>id</th>\n",
       "      <th>date</th>\n",
       "      <th>price</th>\n",
       "      <th>bedrooms</th>\n",
       "      <th>bathrooms</th>\n",
       "      <th>sqft_living</th>\n",
       "      <th>sqft_lot</th>\n",
       "      <th>floors</th>\n",
       "      <th>waterfront</th>\n",
       "      <th>view</th>\n",
       "      <th>...</th>\n",
       "      <th>bedrooms_zscore</th>\n",
       "      <th>bathrooms_zscore</th>\n",
       "      <th>sqft_living_zscore</th>\n",
       "      <th>sqft_lot_zscore</th>\n",
       "      <th>grade_zscore</th>\n",
       "      <th>sqft_above_zscore</th>\n",
       "      <th>sqft_basement_zscore</th>\n",
       "      <th>year_built_zscore</th>\n",
       "      <th>sqft_living_15_zscore</th>\n",
       "      <th>sqft_lot_15_zscore</th>\n",
       "    </tr>\n",
       "  </thead>\n",
       "  <tbody>\n",
       "    <tr>\n",
       "      <th>0</th>\n",
       "      <td>6414100192</td>\n",
       "      <td>20141209T000000</td>\n",
       "      <td>$538,000.00</td>\n",
       "      <td>3</td>\n",
       "      <td>2.25</td>\n",
       "      <td>2570</td>\n",
       "      <td>7242.0</td>\n",
       "      <td>2.0</td>\n",
       "      <td>0</td>\n",
       "      <td>1</td>\n",
       "      <td>...</td>\n",
       "      <td>-0.399118</td>\n",
       "      <td>0.173892</td>\n",
       "      <td>0.532737</td>\n",
       "      <td>-0.189435</td>\n",
       "      <td>-0.558705</td>\n",
       "      <td>0.456334</td>\n",
       "      <td>0.247125</td>\n",
       "      <td>-0.663507</td>\n",
       "      <td>-0.433016</td>\n",
       "      <td>-0.056627</td>\n",
       "    </tr>\n",
       "    <tr>\n",
       "      <th>1</th>\n",
       "      <td>9547205180</td>\n",
       "      <td>20140613T000000</td>\n",
       "      <td>$696,000.00</td>\n",
       "      <td>3</td>\n",
       "      <td>2.50</td>\n",
       "      <td>2300</td>\n",
       "      <td>3060.0</td>\n",
       "      <td>1.5</td>\n",
       "      <td>0</td>\n",
       "      <td>1</td>\n",
       "      <td>...</td>\n",
       "      <td>-0.399118</td>\n",
       "      <td>0.498493</td>\n",
       "      <td>0.238986</td>\n",
       "      <td>-0.289888</td>\n",
       "      <td>0.291371</td>\n",
       "      <td>-0.336249</td>\n",
       "      <td>1.129541</td>\n",
       "      <td>-1.360559</td>\n",
       "      <td>-0.578893</td>\n",
       "      <td>-0.099232</td>\n",
       "    </tr>\n",
       "    <tr>\n",
       "      <th>2</th>\n",
       "      <td>1483300570</td>\n",
       "      <td>20140908T000000</td>\n",
       "      <td>$905,000.00</td>\n",
       "      <td>4</td>\n",
       "      <td>2.50</td>\n",
       "      <td>3300</td>\n",
       "      <td>10250.0</td>\n",
       "      <td>1.0</td>\n",
       "      <td>0</td>\n",
       "      <td>1</td>\n",
       "      <td>...</td>\n",
       "      <td>0.674661</td>\n",
       "      <td>0.498493</td>\n",
       "      <td>1.326952</td>\n",
       "      <td>-0.117182</td>\n",
       "      <td>-0.558705</td>\n",
       "      <td>0.720529</td>\n",
       "      <td>1.401053</td>\n",
       "      <td>-0.829472</td>\n",
       "      <td>-0.053735</td>\n",
       "      <td>-0.072150</td>\n",
       "    </tr>\n",
       "    <tr>\n",
       "      <th>3</th>\n",
       "      <td>2450000295</td>\n",
       "      <td>20141007T000000</td>\n",
       "      <td>$1,088,000.00</td>\n",
       "      <td>3</td>\n",
       "      <td>2.50</td>\n",
       "      <td>2920</td>\n",
       "      <td>8113.0</td>\n",
       "      <td>2.0</td>\n",
       "      <td>0</td>\n",
       "      <td>1</td>\n",
       "      <td>...</td>\n",
       "      <td>-0.399118</td>\n",
       "      <td>0.498493</td>\n",
       "      <td>0.913525</td>\n",
       "      <td>-0.168513</td>\n",
       "      <td>0.291371</td>\n",
       "      <td>1.356997</td>\n",
       "      <td>-0.657916</td>\n",
       "      <td>-0.696700</td>\n",
       "      <td>0.558950</td>\n",
       "      <td>-0.052011</td>\n",
       "    </tr>\n",
       "    <tr>\n",
       "      <th>4</th>\n",
       "      <td>3626039325</td>\n",
       "      <td>20141121T000000</td>\n",
       "      <td>$740,500.00</td>\n",
       "      <td>3</td>\n",
       "      <td>3.50</td>\n",
       "      <td>4380</td>\n",
       "      <td>6350.0</td>\n",
       "      <td>2.0</td>\n",
       "      <td>0</td>\n",
       "      <td>1</td>\n",
       "      <td>...</td>\n",
       "      <td>-0.399118</td>\n",
       "      <td>1.796897</td>\n",
       "      <td>2.501954</td>\n",
       "      <td>-0.210861</td>\n",
       "      <td>0.291371</td>\n",
       "      <td>1.188873</td>\n",
       "      <td>2.962249</td>\n",
       "      <td>-2.356348</td>\n",
       "      <td>-0.228788</td>\n",
       "      <td>-0.069179</td>\n",
       "    </tr>\n",
       "  </tbody>\n",
       "</table>\n",
       "<p>5 rows × 30 columns</p>\n",
       "</div>"
      ],
      "text/plain": [
       "           id             date          price  bedrooms  bathrooms  \\\n",
       "0  6414100192  20141209T000000    $538,000.00         3       2.25   \n",
       "1  9547205180  20140613T000000    $696,000.00         3       2.50   \n",
       "2  1483300570  20140908T000000    $905,000.00         4       2.50   \n",
       "3  2450000295  20141007T000000  $1,088,000.00         3       2.50   \n",
       "4  3626039325  20141121T000000    $740,500.00         3       3.50   \n",
       "\n",
       "   sqft_living  sqft_lot  floors  waterfront  view  ...  bedrooms_zscore  \\\n",
       "0         2570    7242.0     2.0           0     1  ...        -0.399118   \n",
       "1         2300    3060.0     1.5           0     1  ...        -0.399118   \n",
       "2         3300   10250.0     1.0           0     1  ...         0.674661   \n",
       "3         2920    8113.0     2.0           0     1  ...        -0.399118   \n",
       "4         4380    6350.0     2.0           0     1  ...        -0.399118   \n",
       "\n",
       "   bathrooms_zscore  sqft_living_zscore  sqft_lot_zscore  grade_zscore  \\\n",
       "0          0.173892            0.532737        -0.189435     -0.558705   \n",
       "1          0.498493            0.238986        -0.289888      0.291371   \n",
       "2          0.498493            1.326952        -0.117182     -0.558705   \n",
       "3          0.498493            0.913525        -0.168513      0.291371   \n",
       "4          1.796897            2.501954        -0.210861      0.291371   \n",
       "\n",
       "   sqft_above_zscore  sqft_basement_zscore  year_built_zscore  \\\n",
       "0           0.456334              0.247125          -0.663507   \n",
       "1          -0.336249              1.129541          -1.360559   \n",
       "2           0.720529              1.401053          -0.829472   \n",
       "3           1.356997             -0.657916          -0.696700   \n",
       "4           1.188873              2.962249          -2.356348   \n",
       "\n",
       "   sqft_living_15_zscore  sqft_lot_15_zscore  \n",
       "0              -0.433016           -0.056627  \n",
       "1              -0.578893           -0.099232  \n",
       "2              -0.053735           -0.072150  \n",
       "3               0.558950           -0.052011  \n",
       "4              -0.228788           -0.069179  \n",
       "\n",
       "[5 rows x 30 columns]"
      ]
     },
     "execution_count": 63,
     "metadata": {},
     "output_type": "execute_result"
    }
   ],
   "source": [
    "# Use .head() method to print first few rows of new master dataframe\n",
    "master_df.head()"
   ]
  },
  {
   "cell_type": "markdown",
   "id": "676dfdc8",
   "metadata": {},
   "source": [
    "### Step 3: Save Master DataFrame to New .CSV"
   ]
  },
  {
   "cell_type": "code",
   "execution_count": 64,
   "id": "ccf2c160",
   "metadata": {},
   "outputs": [],
   "source": [
    "######################### TO DO ###################################\n",
    "\n",
    "####### FOLLOW PROJECT DIRECTIONS TO COMPLETE THIS STEP ###########\n",
    "master_df.to_csv('master.csv', index=False)"
   ]
  },
  {
   "cell_type": "markdown",
   "id": "a34a138b",
   "metadata": {},
   "source": [
    "### Step 4: Push to GitHub / Share Link with Tech Lead & SME"
   ]
  },
  {
   "cell_type": "markdown",
   "id": "16a67912",
   "metadata": {},
   "source": [
    "##### This step will be completed outside of Jupyter Notebook. See \"Submitting Project\" Video Walkthrough from Unit 1 if you have any questions. "
   ]
  },
  {
   "cell_type": "markdown",
   "id": "44a3a5a1",
   "metadata": {},
   "source": [
    "### Step 5: Record Brief Code Walkthrough / Share Link with Tech Lead & SME "
   ]
  },
  {
   "cell_type": "markdown",
   "id": "585c953e",
   "metadata": {},
   "source": [
    "##### This step will be completed outside of Jupyter Notebook. See \"Submitting Project\" Video Walkthrough from Unit 1 if you have any questions. "
   ]
  }
 ],
 "metadata": {
  "kernelspec": {
   "display_name": "Python 3 (ipykernel)",
   "language": "python",
   "name": "python3"
  },
  "language_info": {
   "codemirror_mode": {
    "name": "ipython",
    "version": 3
   },
   "file_extension": ".py",
   "mimetype": "text/x-python",
   "name": "python",
   "nbconvert_exporter": "python",
   "pygments_lexer": "ipython3",
   "version": "3.9.13"
  }
 },
 "nbformat": 4,
 "nbformat_minor": 5
}
